{
 "cells": [
  {
   "cell_type": "code",
   "execution_count": 21,
   "id": "150ef83f-9151-479e-9540-81c092ff9d0e",
   "metadata": {},
   "outputs": [],
   "source": [
    "import pandas as pd"
   ]
  },
  {
   "cell_type": "code",
   "execution_count": 22,
   "id": "03b5170d-b726-43ab-a537-86568b12f27d",
   "metadata": {},
   "outputs": [
    {
     "name": "stdout",
     "output_type": "stream",
     "text": [
      "^C\n",
      "\u001b[31mERROR: Operation cancelled by user\u001b[0m\u001b[31m\n",
      "\u001b[0m"
     ]
    }
   ],
   "source": [
    "!pip install pyarrow==9.0.0"
   ]
  },
  {
   "cell_type": "code",
   "execution_count": 28,
   "id": "fc006b1a-e40f-4116-b67f-8454263f2970",
   "metadata": {},
   "outputs": [],
   "source": [
    "path = '../data_files/stage_files/convenios.parquet'"
   ]
  },
  {
   "cell_type": "code",
   "execution_count": 29,
   "id": "41762b11-dd2c-4f54-9be7-555ead668e85",
   "metadata": {},
   "outputs": [],
   "source": [
    "df = pd.read_parquet(path)"
   ]
  },
  {
   "cell_type": "code",
   "execution_count": 32,
   "id": "3f2fac40-a231-4163-b121-84a6a3336804",
   "metadata": {},
   "outputs": [
    {
     "data": {
      "text/html": [
       "<div>\n",
       "<style scoped>\n",
       "    .dataframe tbody tr th:only-of-type {\n",
       "        vertical-align: middle;\n",
       "    }\n",
       "\n",
       "    .dataframe tbody tr th {\n",
       "        vertical-align: top;\n",
       "    }\n",
       "\n",
       "    .dataframe thead th {\n",
       "        text-align: right;\n",
       "    }\n",
       "</style>\n",
       "<table border=\"1\" class=\"dataframe\">\n",
       "  <thead>\n",
       "    <tr style=\"text-align: right;\">\n",
       "      <th></th>\n",
       "      <th>NR_CONVENIO</th>\n",
       "      <th>ID_PROPOSTA</th>\n",
       "      <th>DIA_ASSIN_CONV</th>\n",
       "      <th>SIT_CONVENIO</th>\n",
       "      <th>INSTRUMENTO_ATIVO</th>\n",
       "      <th>DIA_PUBL_CONV</th>\n",
       "      <th>DIA_INIC_VIGENC_CONV</th>\n",
       "      <th>DIA_FIM_VIGENC_CONV</th>\n",
       "      <th>DIA_LIMITE_PREST_CONTAS</th>\n",
       "      <th>VL_GLOBAL_CONV</th>\n",
       "      <th>VL_REPASSE_CONV</th>\n",
       "      <th>VL_CONTRAPARTIDA_CONV</th>\n",
       "    </tr>\n",
       "  </thead>\n",
       "  <tbody>\n",
       "    <tr>\n",
       "      <th>155541</th>\n",
       "      <td>896972</td>\n",
       "      <td>1518842</td>\n",
       "      <td>31/12/2019</td>\n",
       "      <td>None</td>\n",
       "      <td>SIM</td>\n",
       "      <td>21/01/2020</td>\n",
       "      <td>21/01/2020</td>\n",
       "      <td>31/07/2021</td>\n",
       "      <td>29/09/2021</td>\n",
       "      <td>2020000</td>\n",
       "      <td>2000000</td>\n",
       "      <td>20000</td>\n",
       "    </tr>\n",
       "  </tbody>\n",
       "</table>\n",
       "</div>"
      ],
      "text/plain": [
       "       NR_CONVENIO ID_PROPOSTA DIA_ASSIN_CONV SIT_CONVENIO INSTRUMENTO_ATIVO  \\\n",
       "155541      896972     1518842     31/12/2019         None               SIM   \n",
       "\n",
       "       DIA_PUBL_CONV DIA_INIC_VIGENC_CONV DIA_FIM_VIGENC_CONV  \\\n",
       "155541    21/01/2020           21/01/2020          31/07/2021   \n",
       "\n",
       "       DIA_LIMITE_PREST_CONTAS VL_GLOBAL_CONV VL_REPASSE_CONV  \\\n",
       "155541              29/09/2021        2020000         2000000   \n",
       "\n",
       "       VL_CONTRAPARTIDA_CONV  \n",
       "155541                 20000  "
      ]
     },
     "execution_count": 32,
     "metadata": {},
     "output_type": "execute_result"
    }
   ],
   "source": [
    "df.loc[df['NR_CONVENIO']=='896972']"
   ]
  },
  {
   "cell_type": "code",
   "execution_count": 31,
   "id": "575fb6da-2cb1-4b8a-8d04-99bdfa457d99",
   "metadata": {},
   "outputs": [
    {
     "data": {
      "text/plain": [
       "NR_CONVENIO                object\n",
       "ID_PROPOSTA                object\n",
       "DIA_ASSIN_CONV             object\n",
       "SIT_CONVENIO               object\n",
       "INSTRUMENTO_ATIVO          object\n",
       "DIA_PUBL_CONV              object\n",
       "DIA_INIC_VIGENC_CONV       object\n",
       "DIA_FIM_VIGENC_CONV        object\n",
       "DIA_LIMITE_PREST_CONTAS    object\n",
       "VL_GLOBAL_CONV             object\n",
       "VL_REPASSE_CONV            object\n",
       "VL_CONTRAPARTIDA_CONV      object\n",
       "dtype: object"
      ]
     },
     "execution_count": 31,
     "metadata": {},
     "output_type": "execute_result"
    }
   ],
   "source": [
    "df.dtypes"
   ]
  }
 ],
 "metadata": {
  "kernelspec": {
   "display_name": "Python 3 (ipykernel)",
   "language": "python",
   "name": "python3"
  },
  "language_info": {
   "codemirror_mode": {
    "name": "ipython",
    "version": 3
   },
   "file_extension": ".py",
   "mimetype": "text/x-python",
   "name": "python",
   "nbconvert_exporter": "python",
   "pygments_lexer": "ipython3",
   "version": "3.8.13"
  }
 },
 "nbformat": 4,
 "nbformat_minor": 5
}
