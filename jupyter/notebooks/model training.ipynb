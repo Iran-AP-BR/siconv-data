{
 "cells": [
  {
   "cell_type": "markdown",
   "id": "9c602b3a-a3f5-4b68-8c1b-fd4ba39b079c",
   "metadata": {},
   "source": [
    "\n",
    "# Modelagem de um classificador binário de convenios  \n",
    "\n",
    "Todos os convênios que não estavam na situação 'em execução' foram classificados entre insucesso e não-insucesso.  \n",
    "Foram classifcados como insucesso os convênios cuja situação era 'Prestação de Contas Rejeitada', 'Inadimplente', 'Convênio Rescindido' os demais foram classificados com não-insucesso."
   ]
  },
  {
   "cell_type": "markdown",
   "id": "fcdb4a0b-d487-4033-b571-a34a093f2108",
   "metadata": {},
   "source": [
    "## 1. Importando as bibliotecas"
   ]
  },
  {
   "cell_type": "code",
   "execution_count": 1,
   "id": "f4b206ab-84f1-4d94-8d6e-094136116321",
   "metadata": {},
   "outputs": [],
   "source": [
    "import numpy as np\n",
    "import pandas as pd\n",
    "import matplotlib.pyplot as plt\n",
    "import re\n",
    "import pickle\n",
    "\n",
    "from sklearn.feature_extraction.text import TfidfVectorizer\n",
    "from sklearn.cluster import KMeans\n",
    "from sklearn.base import BaseEstimator, TransformerMixin\n",
    "\n",
    "from sklearn.preprocessing import OneHotEncoder, PowerTransformer\n",
    "from sklearn.model_selection import GridSearchCV, train_test_split\n",
    "from sklearn.decomposition import PCA\n",
    "\n",
    "from sklearn.neighbors import KNeighborsClassifier\n",
    "from sklearn.neural_network import MLPClassifier\n",
    "from sklearn.naive_bayes import GaussianNB\n",
    "from sklearn.tree import DecisionTreeClassifier\n",
    "from sklearn.ensemble import RandomForestClassifier, AdaBoostClassifier\n",
    "from sklearn.svm import SVC\n",
    "from sklearn.discriminant_analysis import QuadraticDiscriminantAnalysis\n",
    "\n",
    "from sklearn.metrics import classification_report, mean_squared_error\n",
    "\n",
    "import nltk\n",
    "_ = nltk.download('rslp', quiet=True)\n"
   ]
  },
  {
   "cell_type": "markdown",
   "id": "9d42335d-d37c-411f-ae04-2b2068975d17",
   "metadata": {},
   "source": [
    "## 2. Caregamento dos dados brutos\n",
    "> Esses estão sendo carregados apenas para realização de testes"
   ]
  },
  {
   "cell_type": "code",
   "execution_count": 2,
   "id": "53fdf510-4b32-4408-9ea3-819b211b167f",
   "metadata": {},
   "outputs": [],
   "source": [
    "\n",
    "convenios = pd.read_csv('../data_files/csv_files/convenios.csv.gz', decimal=',', sep=';', compression='gzip', encoding='utf-8')\n",
    "proponentes = pd.read_csv('../data_files/csv_files/proponentes.csv.gz', decimal=',', sep=';', compression='gzip', encoding='utf-8')\n",
    "emendas_convenios = pd.read_csv('../data_files/csv_files/emendas_convenios.csv.gz', decimal=',', sep=';', compression='gzip', encoding='utf-8')\n",
    "emendas = pd.read_csv('../data_files/csv_files/emendas.csv.gz', decimal=',', sep=';', compression='gzip', encoding='utf-8')\n",
    "movimento = pd.read_csv('../data_files/csv_files/movimento.csv.gz', decimal=',', sep=';', compression='gzip', encoding='utf-8')\n",
    "fornecedores = pd.read_csv('../data_files/csv_files/fornecedores.csv.gz', decimal=',', sep=';', compression='gzip', encoding='utf-8')"
   ]
  },
  {
   "cell_type": "markdown",
   "id": "8f03c242-987f-4c51-ae5e-4985e5638395",
   "metadata": {},
   "source": [
    "## 2. Definição da classe TextTransformer  \n",
    "> Esta classe realiza a o agrupamento (clustering) de textos com o algorítimo K-Means.  \n",
    "> A finalidade aqui é representar os textos da coluna 'OBJETO_PROPOSTA' em classes designadas por números inteiros."
   ]
  },
  {
   "cell_type": "code",
   "execution_count": 3,
   "id": "d6415766-8dd4-4fb7-b6fa-5d7261dde0af",
   "metadata": {},
   "outputs": [],
   "source": [
    "class TextTransformer(BaseEstimator, TransformerMixin):\n",
    "    \n",
    "    def __init__(self, n_clusters=5, stop_words=[], accented=[]):\n",
    "        \n",
    "        self.__n_clusters__ = n_clusters\n",
    "        self.__stop_words__ = stop_words\n",
    "        self.__accented__ = accented\n",
    "        self.labels_ = None\n",
    "        self.__vectorizer__ = TfidfVectorizer(use_idf=True)\n",
    "        self.__clusterer__ = KMeans(n_clusters=self.__n_clusters__, random_state=0)\n",
    "    \n",
    "    def fit(self, X):\n",
    "        \n",
    "        X = self.__preprocessing__(X)\n",
    "        X = self.__vectorizer__.fit_transform(X)\n",
    "        self.__clusterer__ = self.__clusterer__.fit(X)\n",
    "        self.labels_ = self.__clusterer__.labels_\n",
    "        return self\n",
    "\n",
    "    def fit_transform(self, X):\n",
    "        \n",
    "        X = self.__preprocessing__(X)\n",
    "        X = self.__vectorizer__.fit_transform(X)\n",
    "        X = self.__clusterer__.fit_transform(X)\n",
    "        self.labels_ = self.__clusterer__.labels_\n",
    "        return X\n",
    "    \n",
    "    def fit_predict(self, X):\n",
    "        \n",
    "        X = self.__preprocessing__(X)\n",
    "        X = self.__vectorizer__.fit_transform(X)\n",
    "        y = self.__clusterer__.fit_predict(X)\n",
    "        self.labels_ = self.__clusterer__.labels_\n",
    "        return y\n",
    "    \n",
    "    def transform(self, X):        \n",
    "        \n",
    "        X = self.__preprocessing__(X)\n",
    "        X = self.__vectorizer__.transform(X)\n",
    "        X = self.__clusterer__.transform(X)\n",
    "        return X\n",
    "                       \n",
    "    def predict(self, X):\n",
    "        \n",
    "        return_unique = False\n",
    "        if type(X)==str:\n",
    "            X = [X]\n",
    "            return_unique = True\n",
    "        \n",
    "        X = self.__preprocessing__(X)\n",
    "        X = self.__vectorizer__.transform(X)\n",
    "        y = self.__clusterer__.predict(X)\n",
    "        y = y[0] if return_unique else y\n",
    "        return y\n",
    "    \n",
    "    def __preprocessing__(self, X):\n",
    "        \n",
    "        X = [' '.join(self.__text_preprocessing__(t)) for t in X]\n",
    "        return X\n",
    "    \n",
    "    def __stemming__(self, tokens):  \n",
    "        \n",
    "        stemmer = nltk.stem.RSLPStemmer()\n",
    "        return [stemmer.stem(token) for token in tokens]\n",
    "\n",
    "    def __remove_accents__(self, text):\n",
    "        \n",
    "        for idx in self.__accented__.index:\n",
    "            text = text.replace(self.__accented__['char_acc'][idx], self.__accented__['char_norm'][idx]) \n",
    "        return text\n",
    "\n",
    "    def __text_preprocessing__(self, text):\n",
    "        \n",
    "        text = text.lower()\n",
    "        text = self.__remove_accents__(text)\n",
    "        tokens = re.findall('[a-z]+', text)\n",
    "        tokens = filter(lambda w: w is not None, map(lambda w: None if w in self.__stop_words__ or len(w)==1 else w , tokens))\n",
    "        tokens = self.__stemming__(tokens)\n",
    "        return tokens"
   ]
  },
  {
   "cell_type": "markdown",
   "id": "342e33bd-ef73-4586-975f-48e6dbfe6209",
   "metadata": {},
   "source": [
    "## 3. Definição da função transform_dataset  \n",
    "> Esta função realiza a conversão dos dados distribuídos nas tabelas (dataframes carregados) para um dataset (conjunto de dados).\n",
    "> A finalidade aqui obter um conjunto de dados no formato apropriado para os algorítimos."
   ]
  },
  {
   "cell_type": "code",
   "execution_count": 4,
   "id": "2de7f031-6d00-48b6-a009-779596cd4497",
   "metadata": {},
   "outputs": [],
   "source": [
    "def transform_dataset(convenios, proponentes, emendas, emendas_convenios, fornecedores, movimento, ylabel=False, ylabel_name='INSUCESSO'):\n",
    "\n",
    "    ibge = proponentes[['IDENTIF_PROPONENTE', 'CODIGO_IBGE']].copy()\n",
    "\n",
    "    selected_columns = ['VL_REPASSE_CONV', 'VL_CONTRAPARTIDA_CONV', 'VALOR_EMENDA_CONVENIO',\n",
    "           'OBJETO_PROPOSTA', 'COD_ORGAO', 'COD_ORGAO_SUP', 'NATUREZA_JURIDICA',\n",
    "           'MODALIDADE', 'IDENTIF_PROPONENTE', 'COM_EMENDAS']\n",
    "\n",
    "    features_columns = ['NR_CONVENIO', *selected_columns]\n",
    "    if ylabel:\n",
    "        features_columns += [ylabel_name]\n",
    "\n",
    "    convenios_ = convenios[features_columns].copy()\n",
    "\n",
    "    principais_parlamentares = get_principais_parlamentares(emendas=emendas, emendas_convenios=emendas_convenios, convenios_list=convenios_['NR_CONVENIO'].to_list())\n",
    "    principais_fornecedores = get_principais_fornecedores(movimento=movimento, fornecedores=fornecedores, convenios_list=convenios_['NR_CONVENIO'].to_list())\n",
    "\n",
    "    dataset = pd.merge(convenios_, ibge, how='inner', on=['IDENTIF_PROPONENTE'], left_index=False, right_index=False)\n",
    "\n",
    "    dataset = pd.merge(dataset, principais_parlamentares, how='left', on=['NR_CONVENIO'], left_index=False, right_index=False)\n",
    "\n",
    "    dataset = pd.merge(dataset, principais_fornecedores, how='left', on=['NR_CONVENIO'], left_index=False, right_index=False)\n",
    "\n",
    "    dataset = dataset.fillna('NAO APLICAVEL')\n",
    "\n",
    "    Xdtypes = {'VL_REPASSE_CONV': 'float64', 'VL_CONTRAPARTIDA_CONV': 'float64', \n",
    "               'VALOR_EMENDA_CONVENIO': 'float64', 'OBJETO_PROPOSTA': 'object', \n",
    "               'COD_ORGAO': 'int64', 'COD_ORGAO_SUP': 'int64', 'NATUREZA_JURIDICA': 'object', \n",
    "               'MODALIDADE': 'object', 'IDENTIF_PROPONENTE': 'int64', 'COM_EMENDAS': 'int64',\n",
    "               'CODIGO_IBGE': 'int64', 'PRINCIPAL_PARLAMENTAR': 'object', 'PRINCIPAL_FORNECEDOR': 'object'}\n",
    "\n",
    "    return dataset.astype(Xdtypes)"
   ]
  },
  {
   "cell_type": "code",
   "execution_count": 5,
   "id": "c45d05aa-f9ab-491e-a10b-567b2439ba59",
   "metadata": {},
   "outputs": [],
   "source": [
    "def get_principais_parlamentares( emendas, emendas_convenios, convenios_list):\n",
    "\n",
    "    convenios_repasses_emendas = emendas_convenios.loc[emendas_convenios['NR_CONVENIO'].isin(convenios_list)].copy()\n",
    "    convenios_repasses_emendas['rank'] = convenios_repasses_emendas.groupby(by=['NR_CONVENIO'])['VALOR_REPASSE_EMENDA'].rank(ascending=False, method='min')\n",
    "    convenios_repasses_emendas = convenios_repasses_emendas.loc[convenios_repasses_emendas['rank']==1, ['NR_CONVENIO', 'NR_EMENDA']]\n",
    "    convenios_parlamentares = pd.merge(convenios_repasses_emendas, emendas, on=['NR_EMENDA'], left_index=False, right_index=False)\n",
    "    convenios_parlamentares = convenios_parlamentares[['NR_CONVENIO', 'NOME_PARLAMENTAR']]\n",
    "    convenios_parlamentares.columns = ['NR_CONVENIO', 'PRINCIPAL_PARLAMENTAR']\n",
    "    convenios_parlamentares = convenios_parlamentares.groupby(by=['NR_CONVENIO']).max().reset_index()\n",
    "\n",
    "    return convenios_parlamentares"
   ]
  },
  {
   "cell_type": "code",
   "execution_count": 6,
   "id": "6175759b-caf6-4acc-8ac2-9a91a72f517d",
   "metadata": {},
   "outputs": [],
   "source": [
    "def get_principais_fornecedores(movimento, fornecedores, convenios_list):\n",
    "\n",
    "    movimento_exec = movimento.loc[movimento['NR_CONVENIO'].isin(convenios_list)].copy()\n",
    "    movimento_exec = movimento_exec[movimento_exec['TIPO_MOV']=='P']\n",
    "    convenios_fornecedores = movimento_exec[['NR_CONVENIO', 'FORNECEDOR_ID', 'VALOR_MOV']].groupby(by=['NR_CONVENIO', 'FORNECEDOR_ID']).sum().reset_index().copy()\n",
    "    convenios_fornecedores['rank'] = convenios_fornecedores.groupby(by=['NR_CONVENIO'])['VALOR_MOV'].rank(ascending=False, method='min')\n",
    "    convenios_fornecedores = convenios_fornecedores.loc[convenios_fornecedores['rank']==1, ['NR_CONVENIO', 'FORNECEDOR_ID']]\n",
    "    convenios_fornecedores = pd.merge(convenios_fornecedores, fornecedores, on=['FORNECEDOR_ID'], left_index=False, right_index=False)\n",
    "    convenios_fornecedores = convenios_fornecedores.sort_values(['NR_CONVENIO', 'IDENTIF_FORNECEDOR'], ascending=False)\n",
    "    convenios_fornecedores = convenios_fornecedores[['NR_CONVENIO', 'IDENTIF_FORNECEDOR']]\n",
    "    convenios_fornecedores.columns = ['NR_CONVENIO', 'PRINCIPAL_FORNECEDOR']\n",
    "    convenios_fornecedores = convenios_fornecedores.groupby(by=['NR_CONVENIO']).max().reset_index()\n",
    "\n",
    "    return convenios_fornecedores"
   ]
  },
  {
   "cell_type": "markdown",
   "id": "06ef2858-4973-4adc-b4ae-35c1b9b07371",
   "metadata": {},
   "source": [
    "## 4. Definição da função make_transformers  \n",
    "> Esta função prepara um conjunto transformadores (transformers) para converter e normalizar os dados.   \n",
    "> 1. Para os dados categóricos foi utilizado o codificador (encoder) 'OneHotEncoder'.  \n",
    "> 2. Os dados contínuos foram normalizados com o 'PowerTransformer'.  \n",
    ">\n",
    "> A função make_transformers recebe um dataframe com os dados brutos e retorna um dicionário contendo todos os transformadores treinados.  "
   ]
  },
  {
   "cell_type": "code",
   "execution_count": 7,
   "id": "b899f8a3-12b7-49a8-b25e-3bf9487c2465",
   "metadata": {},
   "outputs": [],
   "source": [
    "def make_transformers(X, stop_words_path, accented_path):\n",
    "\n",
    "    accented = pd.read_csv(accented_path, compression='gzip', sep=';', encoding='utf-8')\n",
    "    stop_words = pd.read_csv(stop_words_path, compression='gzip', encoding='utf-8', header=None)[0].tolist()\n",
    "    data = X.copy()\n",
    "    text_clusterer = TextTransformer(n_clusters=50, stop_words=stop_words, accented=accented).fit(data['OBJETO_PROPOSTA'])\n",
    "    data['OBJETO_PROPOSTA'] = text_clusterer.predict(data['OBJETO_PROPOSTA'])\n",
    "    data['OBJETO_PROPOSTA'] = data['OBJETO_PROPOSTA'].astype('int64')\n",
    "\n",
    "    data_categorical_parlamentar = data.pop('PRINCIPAL_PARLAMENTAR').to_frame()\n",
    "    data_categorical_fornecedor = data.pop('PRINCIPAL_FORNECEDOR').to_frame()\n",
    "\n",
    "    data_categorical_object = data.select_dtypes(include=['object'])\n",
    "    data_categorical_int = data.select_dtypes(include=['int64'])\n",
    "    data_value = data.select_dtypes(include='float64')\n",
    "\n",
    "    transformers = {}\n",
    "    transformers['TEXT_CLUSTERER'] = text_clusterer\n",
    "    transformers['VALUE'] = PowerTransformer().fit(data_value)\n",
    "    transformers['CATEGORICAL_OBJECT'] = OneHotEncoder(handle_unknown='ignore').fit(data_categorical_object)\n",
    "    transformers['CATEGORICAL_INT'] = OneHotEncoder(handle_unknown='infrequent_if_exist', max_categories=500).fit(data_categorical_int)\n",
    "    transformers['CATEGORICAL_PARLAMENTAR'] = OneHotEncoder(handle_unknown='infrequent_if_exist', max_categories=500).fit(data_categorical_parlamentar)\n",
    "    transformers['CATEGORICAL_FORNECEDOR'] = OneHotEncoder(handle_unknown='infrequent_if_exist', max_categories=500).fit(data_categorical_fornecedor)\n",
    "\n",
    "    return transformers\n",
    "\n"
   ]
  },
  {
   "cell_type": "markdown",
   "id": "68dbf406-c06a-40ef-8f9b-a5d8dfc466d8",
   "metadata": {},
   "source": [
    "## 5. Definição da função data_preparation  \n",
    "> Esta função utiliza os transformadores (transformers) para converter e normalizar os dados.  \n",
    "> A finalidade aqui é adequar os dados para serem utilizados nos algorítimos.  "
   ]
  },
  {
   "cell_type": "code",
   "execution_count": 8,
   "id": "8caa302a-e68d-4c6c-a780-8c87076e2d61",
   "metadata": {},
   "outputs": [],
   "source": [
    "def data_preparation(transformers, X):\n",
    "\n",
    "    data = X.copy()\n",
    "    #transformers = transformers\n",
    "    data['OBJETO_PROPOSTA'] = transformers['TEXT_CLUSTERER'].predict(data['OBJETO_PROPOSTA'])\n",
    "    data['OBJETO_PROPOSTA'] = data['OBJETO_PROPOSTA'].astype('int64')\n",
    "\n",
    "    data_categorical_parlamentar = data.pop('PRINCIPAL_PARLAMENTAR').to_frame()\n",
    "    data_categorical_fornecedor = data.pop('PRINCIPAL_FORNECEDOR').to_frame()\n",
    "\n",
    "    data_categorical_object = data.select_dtypes(include=['object'])\n",
    "    data_categorical_int = data.select_dtypes(include=['int64'])\n",
    "    data_value = data.select_dtypes(include='float64')\n",
    "\n",
    "    value_codes = transformers['VALUE'].transform(data_value)\n",
    "    value_feature_names = transformers['VALUE'].feature_names_in_\n",
    "    data_value = pd.DataFrame(value_codes, columns=value_feature_names).astype('float64')\n",
    "\n",
    "    categorical_object_codes = transformers['CATEGORICAL_OBJECT'].transform(data_categorical_object).toarray()\n",
    "    categorical_object_feature_names= transformers['CATEGORICAL_OBJECT'].get_feature_names_out()\n",
    "    data_categorical_object = pd.DataFrame(categorical_object_codes, columns=categorical_object_feature_names).astype('float64')\n",
    "\n",
    "    categorical_int_codes = transformers['CATEGORICAL_INT'].transform(data_categorical_int).toarray()\n",
    "    categorical_int_feature_names= transformers['CATEGORICAL_INT'].get_feature_names_out()\n",
    "    data_categorical_int = pd.DataFrame(categorical_int_codes, columns=categorical_int_feature_names).astype('float64')\n",
    "\n",
    "    parlamentar_codes = transformers['CATEGORICAL_PARLAMENTAR'].transform(data_categorical_parlamentar).toarray()\n",
    "    parlamentar_feature_names= transformers['CATEGORICAL_PARLAMENTAR'].get_feature_names_out()\n",
    "    data_categorical_parlamentar = pd.DataFrame(parlamentar_codes, columns=parlamentar_feature_names).astype('float64')\n",
    "\n",
    "    fornecedor_codes = transformers['CATEGORICAL_FORNECEDOR'].transform(data_categorical_fornecedor).toarray()\n",
    "    fornecedor_feature_names= transformers['CATEGORICAL_FORNECEDOR'].get_feature_names_out()\n",
    "    data_categorical_fornecedor = pd.DataFrame(fornecedor_codes, columns=fornecedor_feature_names).astype('float64')\n",
    "\n",
    "    return pd.concat([data_value, data_categorical_object, data_categorical_int,\n",
    "                      data_categorical_parlamentar, data_categorical_fornecedor], axis=1, sort=False)"
   ]
  },
  {
   "cell_type": "markdown",
   "id": "8b33a48a-a860-43b7-8944-6a892cac90ae",
   "metadata": {},
   "source": [
    "## 6. Definição da função make_train_test_base  \n",
    "> Esta função divide os dados originais em duas partes: uma para treino e outra para testes (avaliação).  \n",
    "> A finalidade aqui é deixar essas bases disponíveis para os procedimwentos de treino e avaliação.  \n",
    "> Esta função também se encarrega da conversão da coluna 'OBJETO_PROPOSTA' em agrupamentos (clusters), o que a transforma em uma coluna com dados categóricos passíveis de serem manipulados pelos algorítimos de normalização e classificação.  "
   ]
  },
  {
   "cell_type": "code",
   "execution_count": 9,
   "id": "e6269702-f25d-41e4-ad40-d907daee1363",
   "metadata": {},
   "outputs": [],
   "source": [
    "def make_train_test_bases(**tables):\n",
    "    \n",
    "    assert not tables or set(tables.keys()) == {'convenios', 'proponentes', 'emendas', 'emendas_convenios', \n",
    "    'fornecedores', 'movimento'}, '''Named arguments, if provided, must be: convenios, emendas, emendas_convenios, fornecedores, movimento'''\n",
    "\n",
    "    ylabel_name='INSUCESSO'\n",
    "    print('transforming tables into dataset ... ', end='')\n",
    "    data = transform_dataset(**tables, ylabel=True)\n",
    "    data = data.drop(['NR_CONVENIO'], axis=1)\n",
    "    print('ok')\n",
    "\n",
    "    print('balancing ... ', end='')\n",
    "    data = data.sample(frac=1).reset_index(drop=True)\n",
    "    q0 = len(data[data[ylabel_name]==0])\n",
    "    q1 = len(data[data[ylabel_name]==1])\n",
    "    q = q0 if q0<q1 else q1\n",
    "\n",
    "    X = pd.concat([data[data[ylabel_name]==0].iloc[0:q], data[data[ylabel_name]==1].iloc[0:q]], sort=False)\n",
    "    y = X[[ylabel_name]]\n",
    "    X = pd.concat([data[data[ylabel_name]==0].iloc[0:q], data[data[ylabel_name]==1].iloc[0:q]], sort=False)\n",
    "    rest = data[~data.index.isin(X.index)]\n",
    "    print('ok')\n",
    "\n",
    "    print('spliting ... ', end='')\n",
    "    X_train, X_test, y_train, y_test = train_test_split(X, y, test_size=0.33, random_state=0)\n",
    "    print('ok')\n",
    "\n",
    "    print('saving train and test datasets ... ', end='')\n",
    "    X_train.to_csv('./datasets/convenios_train.tsv.gz', compression='gzip', sep='\\t', encoding='utf-8', index=False)\n",
    "    X_test.to_csv('./datasets/convenios_test.tsv.gz', compression='gzip', sep='\\t', encoding='utf-8', index=False)\n",
    "    print('ok')"
   ]
  },
  {
   "cell_type": "markdown",
   "id": "68907744-8a88-4665-b2f3-fe8d8a06676b",
   "metadata": {},
   "source": [
    "## 7. Definição da função get_tuned_estimator  \n",
    "> Esta função realiza a seleção de hiperparâmetros (tuning).  \n",
    "> A finalidade aqui é selecionar os melhores dentre um conjunto de hiperparâmetros escolhidos para o modelo informado.  \n",
    "> Esta função retorna o melhor score obtido e os hiperparâmetros correspondentes.  "
   ]
  },
  {
   "cell_type": "code",
   "execution_count": 10,
   "id": "9bf5fed6-885d-4418-80be-dd6990182f63",
   "metadata": {},
   "outputs": [],
   "source": [
    "def get_tuned_estimator(X, y, estimator, param_dist, scoring='accuracy'):\n",
    "    rand = GridSearchCV(estimator, param_dist, cv=10, scoring=scoring)\n",
    "    rand.fit(X, y['INSUCESSO'])\n",
    "\n",
    "    return rand.best_params_, rand.best_score_"
   ]
  },
  {
   "cell_type": "markdown",
   "id": "008ce477-aeab-4345-9529-499a0c102d14",
   "metadata": {},
   "source": [
    "## 8. Definição da função load_bases  \n",
    "> Esta função é utilizada para a carga das bases de treino e de teste.  \n",
    "> A finalidade aqui é propiciar um meio único e confiável de se realizar o carregamento das bases de treino e de teste.  \n",
    " "
   ]
  },
  {
   "cell_type": "code",
   "execution_count": 11,
   "id": "60a371ef-9e31-4061-88ba-8ed4e03d4b82",
   "metadata": {},
   "outputs": [],
   "source": [
    "def load_bases(type='both', ylabel_name='INSUCESSO'):\n",
    "\n",
    "    assert type in ['train', 'test', 'both']\n",
    "\n",
    "    result = []\n",
    "    if type.lower() in ['train', 'both']:\n",
    "        train_base = pd.read_csv('./datasets/convenios_train.tsv.gz', compression='gzip', sep='\\t', encoding='utf-8')\n",
    "        X_train = train_base.drop([ylabel_name], axis=1)\n",
    "        y_train = train_base[[ylabel_name]]\n",
    "        result += [X_train, y_train]\n",
    "\n",
    "    if type.lower() in ['test', 'both']:\n",
    "        test_base = pd.read_csv('./datasets/convenios_test.tsv.gz', compression='gzip', sep='\\t', encoding='utf-8')\n",
    "        X_test = test_base.drop([ylabel_name], axis=1)\n",
    "        y_test = test_base[[ylabel_name]]\n",
    "        result += [X_test, y_test]\n",
    "\n",
    "    return result"
   ]
  },
  {
   "cell_type": "markdown",
   "id": "3348bf73-2fdc-4d37-935d-29b98695b7c3",
   "metadata": {},
   "source": [
    "## 9. Criação das bases de treino e de teste\n",
    "> Executado apenas quando se quer criar/recriar as bases de treino e teste a partir dos dados originais (arquivo 'convenios.txt').  \n",
    " "
   ]
  },
  {
   "cell_type": "code",
   "execution_count": 12,
   "id": "8d8f5383-8920-4bb4-b92b-1b3a1da3bc55",
   "metadata": {},
   "outputs": [
    {
     "name": "stdout",
     "output_type": "stream",
     "text": [
      "transforming tables into dataset ... ok\n",
      "balancing ... ok\n",
      "spliting ... ok\n",
      "saving train and test datasets ... ok\n"
     ]
    }
   ],
   "source": [
    "convenios_executados = convenios[(convenios['DIA_FIM_VIGENC_CONV'].astype('datetime64[ns]').dt.year >=2017) & (convenios['DIA_PUBL_CONV'].notna())].copy()\n",
    "convenios_executados = convenios_executados[convenios_executados['SIT_CONVENIO'].str.upper()!='EM EXECUÇÃO']\n",
    "convenios_executados['INSUCESSO'] = 0\n",
    "convenios_executados.loc[convenios_executados['SIT_CONVENIO'].isin(['Prestação de Contas Rejeitada', 'Inadimplente', 'Convênio Rescindido']), 'INSUCESSO'] = 1\n",
    "\n",
    "make_train_test_bases(convenios=convenios_executados, proponentes=proponentes, emendas=emendas, emendas_convenios=emendas_convenios, fornecedores=fornecedores, movimento=movimento)"
   ]
  },
  {
   "cell_type": "markdown",
   "id": "9609dd41-6a80-43d1-be89-3134f3f85ae7",
   "metadata": {
    "tags": []
   },
   "source": [
    "## 10. Carregamento da base de treino e preparação dos dados \n",
    "> A função load_bases é utilizado para carregar a base de treino. Em seguida:  \n",
    "> 1. A função make_transformers é utilizada para preparar os trasnformadores (normalizadores e codificadores). \n",
    ">\n",
    "> 2. Também é instanciado um objeto PCA (principal component analysis) cuja finalidade é realizar a redução da dimensionalidade do modelo por meio do conceito de autovalores e autovetores.\n",
    ">\n",
    "> 3. Por fim, são aplicadas a preparação dos dados e a transformação PCA, de modo a se obter um cujunto de características (features) adquado e suficiente ao processo de teinamento do classificador.  \n",
    " "
   ]
  },
  {
   "cell_type": "code",
   "execution_count": 13,
   "id": "f03c1079-0eeb-4ed1-a47e-de0d847818a3",
   "metadata": {},
   "outputs": [
    {
     "name": "stdout",
     "output_type": "stream",
     "text": [
      "Explained Variance Ratio ---> 96.57\n"
     ]
    }
   ],
   "source": [
    "#train and test bases loading\n",
    "X_train, y_train = load_bases(type='train')\n",
    "\n",
    "#data preparation\n",
    "transformers = make_transformers(X_train, stop_words_path='./datasets/stopwords.txt.gz', accented_path='./datasets/accented.txt.gz')\n",
    "pca = PCA(n_components=700)\n",
    "\n",
    "X_train = data_preparation(transformers, X_train)\n",
    "pca.fit(X_train, y_train)\n",
    "X_train = pca.transform(X_train)\n",
    "print('Explained Variance Ratio --->', round(sum(pca.explained_variance_ratio_)*100, 2))"
   ]
  },
  {
   "cell_type": "markdown",
   "id": "786ef255-48d7-48ef-a000-18537c168d43",
   "metadata": {},
   "source": [
    "## 11. Seleção do algorítimo e ajuste dos hiperparâmetros (tuning)\n",
    "> Cada algorítimo candidato é treinado e avaliado com cross-validation por meio da função get_tuned_estimator, que utiliza o GridSearchCV. Neste caso o score a ser observado é o da precisão, já que se pretende que as predições de convênios com insucesso tenham mais probabilidade de estarem corretas (precision/precisão), mesmo que não se tenha bom desempenho em identificar todos convênios com insucesso (recall/revocação).  "
   ]
  },
  {
   "cell_type": "code",
   "execution_count": 14,
   "id": "9966fecc-e509-4f46-a142-48472df90657",
   "metadata": {},
   "outputs": [],
   "source": [
    "'''\n",
    "estimator=KNeighborsClassifier()\n",
    "knn_param_dist = {\n",
    "                  'n_neighbors': [5, 10, 20, 30, 40, 50, 60, 70, 80, 90, 100], \n",
    "                  'weights': ['uniform', 'distance'], \n",
    "                  'leaf_size': [10, 20, 30]\n",
    "                  }\n",
    "'''\n",
    "\n",
    "estimators_list = [\n",
    "    {\n",
    "     'name': 'GNB',\n",
    "     'estimator': GaussianNB(),\n",
    "     'param_dist': {\n",
    "             'var_smoothing': [1e-12, 1e-15, 1e-20]\n",
    "              }\n",
    "\n",
    "    },\n",
    "\n",
    "    {\n",
    "     'name': 'DTR',\n",
    "     'estimator': DecisionTreeClassifier(),\n",
    "     'param_dist': {\n",
    "             'criterion': ['gini', 'entropy'],\n",
    "              }\n",
    "\n",
    "    },\n",
    "    \n",
    "    {\n",
    "     'name': 'ADA',\n",
    "     'estimator': AdaBoostClassifier(),\n",
    "     'param_dist': {\n",
    "             'n_estimators': [25, 50, 100, 200],\n",
    "             'learning_rate': [0.5, 1.0, 2.0],\n",
    "              }\n",
    "\n",
    "    },\n",
    "\n",
    "    \n",
    "    {\n",
    "     'name': 'SVC',\n",
    "     'estimator': SVC(gamma=2, C=1),\n",
    "     'param_dist': { \n",
    "                 'kernel': ['linear', 'rbf', 'sigmoid']\n",
    "                 }\n",
    "    },\n",
    "    \n",
    "\n",
    "    {\n",
    "     'name': 'MLP',\n",
    "     'estimator': MLPClassifier(alpha=0.0001, shuffle=False, activation='relu', max_iter=2000),\n",
    "     'param_dist': {\n",
    "                  'hidden_layer_sizes': [(n, ) for n in range(10, 51, 10)] + [(n1, n2 ) for n2 in range(10, 51, 10) for n1 in range(10, 51, 10)],\n",
    "                  }\n",
    "    },\n",
    "    \n",
    "    {\n",
    "     'name': 'RFC',\n",
    "     'estimator': RandomForestClassifier(),\n",
    "     'param_dist': {\n",
    "                  'n_estimators': [25, 50, 100, 200],\n",
    "                  'criterion': ['gini', 'entropy'],\n",
    "                  'max_features': ['sqrt', 'log2', None]\n",
    "                  }\n",
    "    }\n",
    "]\n"
   ]
  },
  {
   "cell_type": "code",
   "execution_count": 15,
   "id": "babfeb58-2b76-48c2-bf3b-afb73e341803",
   "metadata": {},
   "outputs": [
    {
     "name": "stdout",
     "output_type": "stream",
     "text": [
      "estimator: GNB --> 0.6795471983604976\n",
      "estimator: DTR --> 0.826320259383776\n",
      "estimator: ADA --> 0.8768498403396439\n",
      "estimator: SVC --> 0.9441556467205379\n",
      "estimator: MLP --> 0.8752392214485903\n",
      "estimator: RFC --> 0.8994363270928044\n"
     ]
    }
   ],
   "source": [
    "best_estimators = pd.DataFrame(data=[], columns=['estimator', 'params', 'score'])\n",
    "\n",
    "for est in estimators_list:\n",
    "    print(f\"estimator: {est['name']} --> \", end='')\n",
    "    params, score = get_tuned_estimator(X_train, y_train, estimator=est['estimator'], param_dist=est['param_dist'], scoring='precision')\n",
    "    best_estimators = pd.concat([best_estimators, pd.DataFrame([[est['name'], str(params.copy()), score]], columns=best_estimators.columns)], axis=0, ignore_index=True, sort=False)\n",
    "    print(f'{score}')"
   ]
  },
  {
   "cell_type": "code",
   "execution_count": 16,
   "id": "2e4e9778-9154-4a92-be85-a1072aa05c78",
   "metadata": {},
   "outputs": [
    {
     "data": {
      "text/plain": [
       "<AxesSubplot:xlabel='estimator'>"
      ]
     },
     "execution_count": 16,
     "metadata": {},
     "output_type": "execute_result"
    },
    {
     "data": {
      "image/png": "[encoded data removed]",
      "text/plain": [
       "<Figure size 1008x288 with 1 Axes>"
      ]
     },
     "metadata": {
      "needs_background": "light"
     },
     "output_type": "display_data"
    }
   ],
   "source": [
    "best_estimators.plot.bar(x='estimator', y='score', logy=False, ylim=[0, 1], grid=True, yticks=np.arange(0.05, 1, 0.05), figsize=(14, 4))"
   ]
  },
  {
   "cell_type": "code",
   "execution_count": 28,
   "id": "8c0ba5d4-d23b-44bc-ad5c-22b698da3cb0",
   "metadata": {},
   "outputs": [
    {
     "data": {
      "text/html": [
       "<div>\n",
       "<style scoped>\n",
       "    .dataframe tbody tr th:only-of-type {\n",
       "        vertical-align: middle;\n",
       "    }\n",
       "\n",
       "    .dataframe tbody tr th {\n",
       "        vertical-align: top;\n",
       "    }\n",
       "\n",
       "    .dataframe thead th {\n",
       "        text-align: right;\n",
       "    }\n",
       "</style>\n",
       "<table border=\"1\" class=\"dataframe\">\n",
       "  <thead>\n",
       "    <tr style=\"text-align: right;\">\n",
       "      <th></th>\n",
       "      <th>estimator</th>\n",
       "      <th>params</th>\n",
       "      <th>score</th>\n",
       "    </tr>\n",
       "  </thead>\n",
       "  <tbody>\n",
       "    <tr>\n",
       "      <th>0</th>\n",
       "      <td>GNB</td>\n",
       "      <td>{'var_smoothing': 1e-12}</td>\n",
       "      <td>0.679547</td>\n",
       "    </tr>\n",
       "    <tr>\n",
       "      <th>1</th>\n",
       "      <td>DTR</td>\n",
       "      <td>{'criterion': 'gini'}</td>\n",
       "      <td>0.826320</td>\n",
       "    </tr>\n",
       "    <tr>\n",
       "      <th>2</th>\n",
       "      <td>ADA</td>\n",
       "      <td>{'learning_rate': 0.5, 'n_estimators': 25}</td>\n",
       "      <td>0.876850</td>\n",
       "    </tr>\n",
       "    <tr>\n",
       "      <th>3</th>\n",
       "      <td>SVC</td>\n",
       "      <td>{'kernel': 'rbf'}</td>\n",
       "      <td>0.944156</td>\n",
       "    </tr>\n",
       "    <tr>\n",
       "      <th>4</th>\n",
       "      <td>MLP</td>\n",
       "      <td>{'hidden_layer_sizes': (30, 40)}</td>\n",
       "      <td>0.875239</td>\n",
       "    </tr>\n",
       "    <tr>\n",
       "      <th>5</th>\n",
       "      <td>RFC</td>\n",
       "      <td>{'criterion': 'gini', 'max_features': 'log2', ...</td>\n",
       "      <td>0.899436</td>\n",
       "    </tr>\n",
       "  </tbody>\n",
       "</table>\n",
       "</div>"
      ],
      "text/plain": [
       "  estimator                                             params     score\n",
       "0       GNB                           {'var_smoothing': 1e-12}  0.679547\n",
       "1       DTR                              {'criterion': 'gini'}  0.826320\n",
       "2       ADA         {'learning_rate': 0.5, 'n_estimators': 25}  0.876850\n",
       "3       SVC                                  {'kernel': 'rbf'}  0.944156\n",
       "4       MLP                   {'hidden_layer_sizes': (30, 40)}  0.875239\n",
       "5       RFC  {'criterion': 'gini', 'max_features': 'log2', ...  0.899436"
      ]
     },
     "execution_count": 28,
     "metadata": {},
     "output_type": "execute_result"
    }
   ],
   "source": [
    "best_estimators"
   ]
  },
  {
   "cell_type": "markdown",
   "id": "41b6e0d0-98cd-404b-a970-d92920e2fc10",
   "metadata": {},
   "source": [
    "\n",
    "## 11. Treinamento e avaliação do algorítimo selecionado  \n"
   ]
  },
  {
   "cell_type": "code",
   "execution_count": 36,
   "id": "2c2ec04e-ed10-4d3c-a4ba-f4ea0c8cc03d",
   "metadata": {},
   "outputs": [],
   "source": [
    "#clf = RandomForestClassifier(criterion='gini', n_estimators=200, max_features='sqrt').fit(X_train, y_train['INSUCESSO'])\n",
    "clf = SVC(gamma=2, C=1).fit(X_train, y_train['INSUCESSO'])"
   ]
  },
  {
   "cell_type": "markdown",
   "id": "2f732f14-0b63-44ad-885e-ea1633929a00",
   "metadata": {},
   "source": [
    "#### - Relatório de classificação  "
   ]
  },
  {
   "cell_type": "code",
   "execution_count": 37,
   "id": "eb9bc110-172f-442a-a67b-3c38c1087926",
   "metadata": {},
   "outputs": [
    {
     "name": "stdout",
     "output_type": "stream",
     "text": [
      "              precision    recall  f1-score   support\n",
      "\n",
      "           0       0.67      0.97      0.79       505\n",
      "           1       0.94      0.48      0.64       467\n",
      "\n",
      "    accuracy                           0.74       972\n",
      "   macro avg       0.81      0.73      0.72       972\n",
      "weighted avg       0.80      0.74      0.72       972\n",
      "\n"
     ]
    }
   ],
   "source": [
    "#evaluation\n",
    "X_test, y_test = load_bases(type='test')\n",
    "X_test = data_preparation(transformers, X_test)\n",
    "X_test = pca.transform(X_test)\n",
    "\n",
    "p = clf.predict(X_test)\n",
    "print(classification_report(y_test['INSUCESSO'], p))"
   ]
  },
  {
   "cell_type": "markdown",
   "id": "3653d58f-d470-4981-ae53-58d3f5dc433a",
   "metadata": {},
   "source": [
    "## 12. Armazenhamento do modelo treinado em formato pickle\n",
    "> A finalidade é que o modelo treinado possa ser utilizado em outra aplicação a partir do carregamento do arquivo pickle.  "
   ]
  },
  {
   "cell_type": "code",
   "execution_count": null,
   "id": "6b11e03a-7216-455a-ba78-6249c1b1dd6b",
   "metadata": {},
   "outputs": [],
   "source": [
    "def save_model(object_model, filename):\n",
    "    with open(filename, 'wb') as fd:\n",
    "        pickle.dump(object_model, fd)"
   ]
  },
  {
   "cell_type": "code",
   "execution_count": null,
   "id": "798fd6ff-171a-40a2-aa0d-ab92217070a0",
   "metadata": {},
   "outputs": [],
   "source": [
    "class MLModel(object):\n",
    "    def __init__(self, transformers, pca, clf):\n",
    "        self.transformers = transformers\n",
    "        self.pca = pca\n",
    "        self.clf = clf\n",
    "        \n",
    "save_model(MLModel(transformers, pca, clf), './trained_model/model.pickle')"
   ]
  },
  {
   "cell_type": "code",
   "execution_count": null,
   "id": "0d771b7f-a724-4ec4-8966-07d120181834",
   "metadata": {},
   "outputs": [],
   "source": []
  }
 ],
 "metadata": {
  "kernelspec": {
   "display_name": "Python 3 (ipykernel)",
   "language": "python",
   "name": "python3"
  },
  "language_info": {
   "codemirror_mode": {
    "name": "ipython",
    "version": 3
   },
   "file_extension": ".py",
   "mimetype": "text/x-python",
   "name": "python",
   "nbconvert_exporter": "python",
   "pygments_lexer": "ipython3",
   "version": "3.8.13"
  }
 },
 "nbformat": 4,
 "nbformat_minor": 5
}
