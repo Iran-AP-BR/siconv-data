{
 "cells": [
  {
   "cell_type": "code",
   "execution_count": null,
   "metadata": {},
   "outputs": [],
   "source": [
    "import re"
   ]
  },
  {
   "cell_type": "code",
   "execution_count": null,
   "metadata": {},
   "outputs": [],
   "source": [
    "def translate(expression):\n",
    "    negation = ''\n",
    "    if expression.startswith('_not_'):\n",
    "        negation = 'not'\n",
    "        expression = expression.replace('_not_', '').strip()\n",
    "\n",
    "    expression_parts = expression.split(' ', 2)\n",
    "    if len(expression_parts) not in [1, 3]:\n",
    "        raise Exception('Error: Syntax')\n",
    "    if len(expression_parts) == 1:\n",
    "        return expression\n",
    "    \n",
    "    field, operator, operand = expression_parts[0].strip(), expression_parts[1].strip(), expression_parts[2].strip()\n",
    "    if operator == '_eq_':\n",
    "        command = f'{field} == {operand}'\n",
    "    elif operator == '_dif_':\n",
    "        command = f'{field} != {operand}'\n",
    "    elif operator == '_gt_':\n",
    "        command = f'{field} > {operand}'\n",
    "    elif operator == '_lt_':\n",
    "        command = f'{field} < {operand}'\n",
    "    elif operator == '_ct_':\n",
    "        command = f'{field}.str.lower().str.contains({operand})'\n",
    "    elif operator == '_in_':\n",
    "        command = f'{field}.isin({operand})'\n",
    "\n",
    "    else:\n",
    "        raise Exception('Error: operator')\n",
    "    \n",
    "    return f'{negation} {command}'.strip()"
   ]
  },
  {
   "cell_type": "code",
   "execution_count": 11,
   "metadata": {},
   "outputs": [],
   "source": [
    "def parentheses(expression):\n",
    "    blocks = {}\n",
    "    count = 1\n",
    "    while True:\n",
    "        groups = re.findall('\\([^\\(\\)]*\\)', expression)\n",
    "        if not groups:\n",
    "            block_id = '_b0'\n",
    "            blocks[block_id] = expression\n",
    "            expression = block_id\n",
    "            break\n",
    "            \n",
    "        for gr in groups:\n",
    "            block_id = f'b{count}'\n",
    "            blocks[block_id] = gr #[1:-1]\n",
    "            expression = expression.replace(gr, block_id)\n",
    "            count += 1\n",
    "    \n",
    "    return blocks"
   ]
  },
  {
   "cell_type": "code",
   "execution_count": 12,
   "metadata": {},
   "outputs": [],
   "source": [
    "def logical(expression):\n",
    "    expression = expression.replace('(', '').replace(')', '')\n",
    "    blocks = {}\n",
    "    for bl in re.split('or | and', expression):\n",
    "        blocks[bl.strip()] = bl.strip()\n",
    "    \n",
    "    return blocks\n",
    "    "
   ]
  },
  {
   "cell_type": "code",
   "execution_count": 61,
   "metadata": {},
   "outputs": [
    {
     "data": {
      "text/plain": [
       "<re.Match object; span=(0, 9), match='_#_b13_#_'>"
      ]
     },
     "execution_count": 61,
     "metadata": {},
     "output_type": "execute_result"
    }
   ],
   "source": [
    "pt = '^_#_b\\d{1,2}_#_$'\n",
    "\n",
    "re.match(pt, '_#_b13_#_'.strip())\n",
    "\n"
   ]
  },
  {
   "cell_type": "code",
   "execution_count": 13,
   "metadata": {},
   "outputs": [],
   "source": [
    "def transl(expr):\n",
    "    return expr.replace('&&', 'and').replace('||', 'or')"
   ]
  },
  {
   "cell_type": "code",
   "execution_count": 25,
   "metadata": {},
   "outputs": [
    {
     "name": "stdout",
     "output_type": "stream",
     "text": [
      "{'b1': '(a > 1 || b gt 5)', 'b2': '(d < 0 || e ct rt)', 'b3': '(c !eq 8 && b2)', '_b0': 'b1 && b3'}\n",
      "{'b1': '(a > 1 or b gt 5)', 'b2': '(d < 0 or e ct rt)', 'b3': '(c !eq 8 and b2)', '_b0': 'b1 and b3'}\n"
     ]
    }
   ],
   "source": [
    "expression = \"(a > 1 || b gt 5) && (c !eq 8 && (d < 0 || e ct rt))\"\n",
    "par = parentheses(expression)\n",
    "print(par)\n",
    "for p in par:\n",
    "    par[p] = transl(par[p])\n",
    "\n",
    "par_list = list(par.keys())\n",
    "\n",
    "i = 0\n",
    "expr = '_b0'\n",
    "while par_list:\n",
    "    bl = par_list[i]\n",
    "    if bl in expr:\n",
    "        expr = expr.replace(bl, par[bl])\n",
    "        par_list.pop(i)\n",
    "        i = 0\n",
    "    else:\n",
    "        i += 1\n",
    "        if i >= len(par_list):\n",
    "            i = 0\n",
    "print(par)\n"
   ]
  },
  {
   "cell_type": "code",
   "execution_count": null,
   "metadata": {},
   "outputs": [],
   "source": [
    "expression = \"a _ct_ 'b' and _not_ c _in_ [1,3,4] and ((f _lt_ 5 and m _ct_ 'hg') or g _dif_ 8)\"\n",
    "print(expression)\n",
    "#expression = \"_not_ a _dif_ x\"\n",
    "par = parentheses(expression)\n",
    "for p in par:\n",
    "    blocks = logical(par[p])\n",
    "\n",
    "    for bl in blocks:\n",
    "        blocks[bl] = translate(blocks[bl])\n",
    "\n",
    "    for bl in blocks:\n",
    "        par[p] = par[p].replace(bl, blocks[bl])\n",
    "\n",
    "p_list = list(par.keys())\n",
    "index = 0\n",
    "while len(p_list) > 0:\n",
    "    p = p_list[index]\n",
    "    if p in expression:\n",
    "        expression = expression.replace(p, f'{par[p]}')\n",
    "        p_list.pop(index)\n",
    "        index = 0\n",
    "    else:\n",
    "        index += 1\n",
    "\n",
    "print(expression)"
   ]
  },
  {
   "cell_type": "code",
   "execution_count": null,
   "metadata": {},
   "outputs": [],
   "source": [
    "txt = 'a ct 6 and (b > 7 or (c < 4 and (d != 9 or e ew \"ca\"))'"
   ]
  },
  {
   "cell_type": "code",
   "execution_count": null,
   "metadata": {},
   "outputs": [],
   "source": [
    "parenthesis(txt)"
   ]
  },
  {
   "cell_type": "code",
   "execution_count": null,
   "metadata": {},
   "outputs": [],
   "source": [
    "logical('(d != 9 or e ew \"ca\")')"
   ]
  },
  {
   "cell_type": "code",
   "execution_count": null,
   "metadata": {},
   "outputs": [],
   "source": [
    "def parser(expression):\n",
    "    blocks = {}\n",
    "    count = 0\n",
    "    while True:\n",
    "        groups = re.findall('\\([^\\(\\)]*\\)', expression)\n",
    "        if not groups:\n",
    "            field, operator, operand = expression.split(' ', 2)\n",
    "            block_id = f'b{count}'\n",
    "            blocks[block_id] = translate(field, operator, operand)\n",
    "            expression = block_id\n",
    "            break\n",
    "            \n",
    "        for gr in groups:\n",
    "            field, operator, operand = gr[1:-1].split(' ', 2)\n",
    "            block_id = f'b{count}'\n",
    "            blocks[block_id] = '(' + translate(field, operator, operand) + ')'\n",
    "            expression = expression.replace(gr, block_id)\n",
    "            count += 1\n",
    "\n",
    "    block_id_list = [key for key in blocks.keys()]\n",
    "    i = 0\n",
    "    while True:\n",
    "        if len(block_id_list) == 0:\n",
    "            break\n",
    "        b = block_id_list[i]\n",
    "        if b in expression:\n",
    "            expression = expression.replace(b, blocks.get(b))\n",
    "            block_id_list.pop(i)\n",
    "            i = 0\n",
    "        else:\n",
    "            print(len(block_id_list), i)\n",
    "            i = (i+1) if len(block_id_list) > i+1 else 0\n",
    "    \n",
    "    return expression"
   ]
  },
  {
   "cell_type": "code",
   "execution_count": null,
   "metadata": {},
   "outputs": [],
   "source": [
    "txt = 'a ct 6 and (b > 7 or (c < 4) - (d != 9))'"
   ]
  },
  {
   "cell_type": "code",
   "execution_count": null,
   "metadata": {},
   "outputs": [],
   "source": [
    "parser(txt)"
   ]
  },
  {
   "cell_type": "code",
   "execution_count": null,
   "metadata": {},
   "outputs": [],
   "source": [
    "help(list().pop)"
   ]
  },
  {
   "cell_type": "code",
   "execution_count": null,
   "metadata": {},
   "outputs": [],
   "source": [
    "expr = '(5 _vezes_ 3) _mais_ 1 _menos_ (4 _vezes_ (7 _menos_ 1))'"
   ]
  },
  {
   "cell_type": "code",
   "execution_count": null,
   "metadata": {},
   "outputs": [],
   "source": [
    "expr2 = expr.replace('(', '[').replace(')', ']')"
   ]
  },
  {
   "cell_type": "code",
   "execution_count": null,
   "metadata": {},
   "outputs": [],
   "source": [
    "expr2"
   ]
  },
  {
   "cell_type": "code",
   "execution_count": null,
   "metadata": {},
   "outputs": [],
   "source": [
    "p = re.findall('\\[[^\\[\\]]*\\]', expr2)"
   ]
  },
  {
   "cell_type": "code",
   "execution_count": null,
   "metadata": {},
   "outputs": [],
   "source": [
    "p"
   ]
  },
  {
   "cell_type": "code",
   "execution_count": null,
   "metadata": {},
   "outputs": [],
   "source": [
    "expr3 = expr2.replace(p[0], '(5 * 3)').replace(p[1], '(7 - 1)')"
   ]
  },
  {
   "cell_type": "code",
   "execution_count": null,
   "metadata": {},
   "outputs": [],
   "source": [
    "expr3"
   ]
  },
  {
   "cell_type": "code",
   "execution_count": null,
   "metadata": {},
   "outputs": [],
   "source": [
    "p = re.findall('\\[[^\\[\\]]*\\]', expr3)"
   ]
  },
  {
   "cell_type": "code",
   "execution_count": null,
   "metadata": {},
   "outputs": [],
   "source": [
    "p"
   ]
  },
  {
   "cell_type": "code",
   "execution_count": null,
   "metadata": {},
   "outputs": [],
   "source": [
    "expr4 = expr3.replace(p[0], '(4 * (7 - 1))')"
   ]
  },
  {
   "cell_type": "code",
   "execution_count": null,
   "metadata": {},
   "outputs": [],
   "source": [
    "expr4"
   ]
  },
  {
   "cell_type": "code",
   "execution_count": null,
   "metadata": {},
   "outputs": [],
   "source": [
    "expr5 = expr4.replace(expr4, '(5 * 3) + 1 - (4 * (7 - 1))')"
   ]
  },
  {
   "cell_type": "code",
   "execution_count": null,
   "metadata": {},
   "outputs": [],
   "source": [
    "expr5"
   ]
  }
 ],
 "metadata": {
  "kernelspec": {
   "display_name": "Python 3",
   "language": "python",
   "name": "python3"
  },
  "language_info": {
   "codemirror_mode": {
    "name": "ipython",
    "version": 3
   },
   "file_extension": ".py",
   "mimetype": "text/x-python",
   "name": "python",
   "nbconvert_exporter": "python",
   "pygments_lexer": "ipython3",
   "version": "3.7.5"
  }
 },
 "nbformat": 4,
 "nbformat_minor": 4
}
