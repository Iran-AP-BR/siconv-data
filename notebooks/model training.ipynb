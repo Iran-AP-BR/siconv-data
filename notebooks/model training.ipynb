{
 "cells": [
  {
   "cell_type": "markdown",
   "id": "9c602b3a-a3f5-4b68-8c1b-fd4ba39b079c",
   "metadata": {},
   "source": [
    "\n",
    "# Modelagem de um classificador binário de convenios  \n",
    "\n",
    "Todos os convênios que não estavam na situação 'em execução' foram classificados entre insucesso e não-insucesso.  \n",
    "Foram classifcados como insucesso os convênios cuja situação era 'Prestação de Contas Rejeitada', 'Inadimplente', 'Convênio Rescindido' os demais foram classificados com não-insucesso."
   ]
  },
  {
   "cell_type": "markdown",
   "id": "fcdb4a0b-d487-4033-b571-a34a093f2108",
   "metadata": {},
   "source": [
    "## 1. Importando as bibliotecas"
   ]
  },
  {
   "cell_type": "code",
   "execution_count": 21,
   "id": "f4b206ab-84f1-4d94-8d6e-094136116321",
   "metadata": {},
   "outputs": [],
   "source": [
    "import numpy as np\n",
    "import pandas as pd\n",
    "import matplotlib.pyplot as plt\n",
    "import re\n",
    "import pickle\n",
    "\n",
    "from sklearn.preprocessing import OneHotEncoder, PowerTransformer\n",
    "from sklearn.model_selection import GridSearchCV, train_test_split\n",
    "from sklearn.decomposition import PCA\n",
    "\n",
    "from sklearn.ensemble import RandomForestClassifier\n",
    "from sklearn.neighbors import KNeighborsClassifier\n",
    "from sklearn.neural_network import MLPClassifier\n",
    "from sklearn.linear_model import LogisticRegression\n",
    "from sklearn.naive_bayes import GaussianNB\n",
    "\n",
    "from sklearn.metrics import classification_report, mean_squared_error\n",
    "\n",
    "import nltk\n",
    "_ = nltk.download('rslp', quiet=True)\n"
   ]
  },
  {
   "cell_type": "markdown",
   "id": "8f03c242-987f-4c51-ae5e-4985e5638395",
   "metadata": {},
   "source": [
    "## 2. Definição da classe TextTransformer  \n",
    "> Esta classe realiza a o agrupamento (clustering) de textos com o algorítimo K-Means.  \n",
    "> A finalidade aqui é representar os textos da coluna 'OBJETO_PROPOSTA' em classes designadas por números inteiros."
   ]
  },
  {
   "cell_type": "code",
   "execution_count": 43,
   "id": "d6415766-8dd4-4fb7-b6fa-5d7261dde0af",
   "metadata": {},
   "outputs": [],
   "source": [
    "#TEXT TRANSFORMER\n",
    "from sklearn.feature_extraction.text import TfidfVectorizer\n",
    "from sklearn.cluster import KMeans\n",
    "from sklearn.base import BaseEstimator, TransformerMixin\n",
    "import nltk\n",
    "import re\n",
    "\n",
    "        \n",
    "class TextTransformer(BaseEstimator, TransformerMixin):\n",
    "    def __init__(self, n_clusters=5, stop_words=[], accented=[]):\n",
    "        self.__n_clusters__ = n_clusters\n",
    "        self.__stop_words__ = stop_words\n",
    "        self.__accented__ = accented\n",
    "        self.labels_ = None\n",
    "        self.__vectorizer__ = TfidfVectorizer(use_idf=True)\n",
    "        self.__clusterer__ = KMeans(n_clusters=self.__n_clusters__, random_state=0)\n",
    "    \n",
    "    def fit(self, X):\n",
    "        X = self.__preprocessing__(X)\n",
    "        X = self.__vectorizer__.fit_transform(X)\n",
    "        self.__clusterer__ = self.__clusterer__.fit(X)\n",
    "        self.labels_ = self.__clusterer__.labels_\n",
    "        return self\n",
    "\n",
    "    def fit_transform(self, X):\n",
    "        X = self.__preprocessing__(X)\n",
    "        X = self.__vectorizer__.fit_transform(X)\n",
    "        X = self.__clusterer__.fit_transform(X)\n",
    "        self.labels_ = self.__clusterer__.labels_\n",
    "        return X\n",
    "    \n",
    "    def fit_predict(self, X):\n",
    "        X = self.__preprocessing__(X)\n",
    "        X = self.__vectorizer__.fit_transform(X)\n",
    "        y = self.__clusterer__.fit_predict(X)\n",
    "        self.labels_ = self.__clusterer__.labels_\n",
    "        return y\n",
    "    \n",
    "    def transform(self, X):        \n",
    "        X = self.__preprocessing__(X)\n",
    "        X = self.__vectorizer__.transform(X)\n",
    "        X = self.__clusterer__.transform(X)\n",
    "        return X\n",
    "                       \n",
    "    def predict(self, X):\n",
    "        return_unique = False\n",
    "        if type(X)==str:\n",
    "            X = [X]\n",
    "            return_unique = True\n",
    "        \n",
    "        X = self.__preprocessing__(X)\n",
    "        X = self.__vectorizer__.transform(X)\n",
    "        y = self.__clusterer__.predict(X)\n",
    "        y = y[0] if return_unique else y\n",
    "        return y\n",
    "    \n",
    "    def __preprocessing__(self, X):\n",
    "        X = [' '.join(self.__text_preprocessing__(t)) for t in X]\n",
    "        return X\n",
    "    \n",
    "    def __stemming__(self, tokens):  \n",
    "        stemmer = nltk.stem.RSLPStemmer()\n",
    "        return [stemmer.stem(token) for token in tokens]\n",
    "\n",
    "    def __remove_accents__(self, text):\n",
    "        for idx in self.__accented__.index:\n",
    "            text = text.replace(self.__accented__['char_acc'][idx], self.__accented__['char_norm'][idx]) \n",
    "        return text\n",
    "\n",
    "    def __text_preprocessing__(self, text):\n",
    "        text = text.lower()\n",
    "        text = self.__remove_accents__(text)\n",
    "        tokens = re.findall('[a-z]+', text)\n",
    "        tokens = filter(lambda w: w is not None, map(lambda w: None if w in self.__stop_words__ or len(w)==1 else w , tokens))\n",
    "        tokens = self.__stemming__(tokens)\n",
    "        return tokens"
   ]
  },
  {
   "cell_type": "markdown",
   "id": "06ef2858-4973-4adc-b4ae-35c1b9b07371",
   "metadata": {},
   "source": [
    "## 3. Definição da função make_transformers  \n",
    "> Esta função prepara um conjunto transformadores (transformers) para converter e normalizar os dados.   \n",
    "> 1. Para os dados categóricos foi utilizado o codificador (encoder) 'OneHotEncoder'.  \n",
    "> 2. Os dados contínuos foram normalizados com o 'PowerTransformer'.  \n",
    ">\n",
    "> A função make_transformers recebe um dataframe com os dados brutos e retorna um dicionário contendo todos os transformadores treinados.  "
   ]
  },
  {
   "cell_type": "code",
   "execution_count": 23,
   "id": "b899f8a3-12b7-49a8-b25e-3bf9487c2465",
   "metadata": {},
   "outputs": [],
   "source": [
    "#Columns Tranformations\n",
    "def make_transformers(X, stop_words=[], accented=[]):\n",
    "    data = X.copy()\n",
    "    objeto_proposta_clusterer = TextTransformer(n_clusters=50, stop_words=stop_words, accented=accented).fit(data['OBJETO_PROPOSTA'])\n",
    "    data['OBJETO_PROPOSTA'] = objeto_proposta_clusterer.predict(data['OBJETO_PROPOSTA'])\n",
    "    data['OBJETO_PROPOSTA'] = data['OBJETO_PROPOSTA'].astype('int64')\n",
    "    \n",
    "    data_categorical_parlamentar = data.pop('PRINCIPAL_PARLAMENTAR').to_frame()\n",
    "    data_categorical_fornecedor = data.pop('PRINCIPAL_FORNECEDOR').to_frame()\n",
    "  \n",
    "    data_categorical_object = data.select_dtypes(include=['object'])\n",
    "    data_categorical_int = data.select_dtypes(include=['int64'])\n",
    "    data_value = data.select_dtypes(include='float64')\n",
    "    \n",
    "    transformers = {}\n",
    "    transformers['OBJETO_PROPOSTA_CLUSTERER'] = objeto_proposta_clusterer\n",
    "    transformers['VALUE'] = PowerTransformer().fit(data_value)\n",
    "    transformers['CATEGORICAL_OBJECT'] = OneHotEncoder(handle_unknown='ignore').fit(data_categorical_object)\n",
    "    transformers['CATEGORICAL_INT'] = OneHotEncoder(handle_unknown='infrequent_if_exist', max_categories=500).fit(data_categorical_int)\n",
    "    transformers['CATEGORICAL_PARLAMENTAR'] = OneHotEncoder(handle_unknown='infrequent_if_exist', max_categories=500).fit(data_categorical_parlamentar)\n",
    "    transformers['CATEGORICAL_FORNECEDOR'] = OneHotEncoder(handle_unknown='infrequent_if_exist', max_categories=500).fit(data_categorical_fornecedor)\n",
    "    \n",
    "    return transformers"
   ]
  },
  {
   "cell_type": "markdown",
   "id": "68dbf406-c06a-40ef-8f9b-a5d8dfc466d8",
   "metadata": {},
   "source": [
    "## 4. Definição da função data_preparation  \n",
    "> Esta função utiliza os transformadores (transformers) para converter e normalizar os dados.  \n",
    "> A finalidade aqui é adequar os dados para serem utilizados nos algorítimos.  "
   ]
  },
  {
   "cell_type": "code",
   "execution_count": 24,
   "id": "8caa302a-e68d-4c6c-a780-8c87076e2d61",
   "metadata": {},
   "outputs": [],
   "source": [
    "#Data Preparation\n",
    "def data_preparation(transformers, X):\n",
    "    data = X.copy()\n",
    "    data['OBJETO_PROPOSTA'] = transformers['OBJETO_PROPOSTA_CLUSTERER'].predict(data['OBJETO_PROPOSTA'])\n",
    "    data['OBJETO_PROPOSTA'] = data['OBJETO_PROPOSTA'].astype('int64')\n",
    "    \n",
    "    data_categorical_parlamentar = data.pop('PRINCIPAL_PARLAMENTAR').to_frame()\n",
    "    data_categorical_fornecedor = data.pop('PRINCIPAL_FORNECEDOR').to_frame()\n",
    "        \n",
    "    data_categorical_object = data.select_dtypes(include=['object'])\n",
    "    data_categorical_int = data.select_dtypes(include=['int64'])\n",
    "    data_value = data.select_dtypes(include='float64')\n",
    "    \n",
    "    value_codes = transformers['VALUE'].transform(data_value)\n",
    "    value_feature_names = transformers['VALUE'].feature_names_in_\n",
    "    data_value = pd.DataFrame(value_codes, columns=value_feature_names).astype('float64')\n",
    "    \n",
    "    categorical_object_codes = transformers['CATEGORICAL_OBJECT'].transform(data_categorical_object).toarray()\n",
    "    categorical_object_feature_names= transformers['CATEGORICAL_OBJECT'].get_feature_names_out()\n",
    "    data_categorical_object = pd.DataFrame(categorical_object_codes, columns=categorical_object_feature_names).astype('float64')\n",
    "    \n",
    "    categorical_int_codes = transformers['CATEGORICAL_INT'].transform(data_categorical_int).toarray()\n",
    "    categorical_int_feature_names= transformers['CATEGORICAL_INT'].get_feature_names_out()\n",
    "    data_categorical_int = pd.DataFrame(categorical_int_codes, columns=categorical_int_feature_names).astype('float64')\n",
    "    \n",
    "    parlamentar_codes = transformers['CATEGORICAL_PARLAMENTAR'].transform(data_categorical_parlamentar).toarray()\n",
    "    parlamentar_feature_names= transformers['CATEGORICAL_PARLAMENTAR'].get_feature_names_out()\n",
    "    data_categorical_parlamentar = pd.DataFrame(parlamentar_codes, columns=parlamentar_feature_names).astype('float64')\n",
    "\n",
    "    fornecedor_codes = transformers['CATEGORICAL_FORNECEDOR'].transform(data_categorical_fornecedor).toarray()\n",
    "    fornecedor_feature_names= transformers['CATEGORICAL_FORNECEDOR'].get_feature_names_out()\n",
    "    data_categorical_fornecedor = pd.DataFrame(fornecedor_codes, columns=fornecedor_feature_names).astype('float64')\n",
    "    \n",
    "    return pd.concat([data_value, data_categorical_object, data_categorical_int,\n",
    "                      data_categorical_parlamentar, data_categorical_fornecedor], axis=1, sort=False)\n"
   ]
  },
  {
   "cell_type": "markdown",
   "id": "8b33a48a-a860-43b7-8944-6a892cac90ae",
   "metadata": {},
   "source": [
    "## 5. Definição da função make_train_test_base  \n",
    "> Esta função divide os dados originais em duas partes: uma para treino e outra para testes (avaliação).  \n",
    "> A finalidade aqui é deixar essas bases disponíveis para os procedimwentos de treino e avaliação.  \n",
    "> Esta função também se encarrega da conversão da coluna 'OBJETO_PROPOSTA' em agrupamentos (clusters), o que a transforma em uma coluna com dados categóricos passíveis de serem manipulados pelos algorítimos de normalização e classificação.  "
   ]
  },
  {
   "cell_type": "code",
   "execution_count": 25,
   "id": "e6269702-f25d-41e4-ad40-d907daee1363",
   "metadata": {},
   "outputs": [],
   "source": [
    "def make_train_test_base():\n",
    "    data = pd.read_csv('./datasets/convenios.txt.gz', compression='gzip', sep='\\t', encoding='utf-8')\n",
    "    data = data.drop(['NR_CONVENIO'], axis=1)\n",
    "    data = data.sample(frac=1).reset_index(drop=True)\n",
    "\n",
    "    q0 = len(data[data['INSUCESSO']==0])\n",
    "    q1 = len(data[data['INSUCESSO']==1])\n",
    "    q = q0 if q0<q1 else q1\n",
    "\n",
    "    X = pd.concat([data[data['INSUCESSO']==0].iloc[0:q], data[data['INSUCESSO']==1].iloc[0:q]], sort=False)\n",
    "    y = X[['INSUCESSO']]\n",
    "    X = pd.concat([data[data['INSUCESSO']==0].iloc[0:q], data[data['INSUCESSO']==1].iloc[0:q]], sort=False)\n",
    "    rest = data[~data.index.isin(X.index)]\n",
    "\n",
    "    X_train, X_test, y_train, y_test = train_test_split(X, y, test_size=0.33, random_state=0)\n",
    "    X_train.to_csv('./datasets/convenios_train.tsv.gz', compression='gzip', sep='\\t', encoding='utf-8', index=False)\n",
    "    X_test.to_csv('./datasets/convenios_test.tsv.gz', compression='gzip', sep='\\t', encoding='utf-8', index=False)"
   ]
  },
  {
   "cell_type": "markdown",
   "id": "68907744-8a88-4665-b2f3-fe8d8a06676b",
   "metadata": {},
   "source": [
    "## 6. Definição da função get_tuned_estimator  \n",
    "> Esta função realiza a seleção de hiperparâmetros (tuning).  \n",
    "> A finalidade aqui é selecionar os melhores dentre um conjunto de hiperparâmetros escolhidos para o modelo informado.  \n",
    "> Esta função retorna o melhor score obtido e os hiperparâmetros correspondentes.  "
   ]
  },
  {
   "cell_type": "code",
   "execution_count": 26,
   "id": "9bf5fed6-885d-4418-80be-dd6990182f63",
   "metadata": {},
   "outputs": [],
   "source": [
    "def get_tuned_estimator(X, y, estimator, param_dist, scoring='accuracy'):\n",
    "    rand = GridSearchCV(estimator, param_dist, cv=10, scoring=scoring)\n",
    "    rand.fit(X, y['INSUCESSO'])\n",
    "\n",
    "    return rand.best_params_, rand.best_score_"
   ]
  },
  {
   "cell_type": "markdown",
   "id": "008ce477-aeab-4345-9529-499a0c102d14",
   "metadata": {},
   "source": [
    "## 7. Definição da função load_bases  \n",
    "> Esta função é utilizada para a carga das bases de treino e de teste.  \n",
    "> A finalidade aqui é propiciar um meio único e confiável de se realizar o carregamento das bases de treino e de teste.  \n",
    " "
   ]
  },
  {
   "cell_type": "code",
   "execution_count": 27,
   "id": "60a371ef-9e31-4061-88ba-8ed4e03d4b82",
   "metadata": {},
   "outputs": [],
   "source": [
    "def load_bases(type='both'):\n",
    "    assert type in ['train', 'test', 'both']\n",
    "    \n",
    "    result = []\n",
    "    if type.lower() in ['train', 'both']:\n",
    "        train_base = pd.read_csv('./datasets/convenios_train.tsv.gz', compression='gzip', sep='\\t', encoding='utf-8')\n",
    "        X_train = train_base.drop(['INSUCESSO'], axis=1)\n",
    "        y_train = train_base[['INSUCESSO']]\n",
    "        result += [X_train, y_train]\n",
    "    \n",
    "    if type.lower() in ['test', 'both']:\n",
    "        test_base = pd.read_csv('./datasets/convenios_test.tsv.gz', compression='gzip', sep='\\t', encoding='utf-8')\n",
    "        X_test = test_base.drop(['INSUCESSO'], axis=1)\n",
    "        y_test = test_base[['INSUCESSO']]\n",
    "        result += [X_test, y_test]\n",
    "\n",
    "    return result\n"
   ]
  },
  {
   "cell_type": "markdown",
   "id": "3348bf73-2fdc-4d37-935d-29b98695b7c3",
   "metadata": {},
   "source": [
    "## 8. Criação das bases de treino e de teste\n",
    "> Executado apenas quando se quer criar/recriar as bases de treino e teste a partir dos dados originais (arquivo 'convenios.txt').  \n",
    " "
   ]
  },
  {
   "cell_type": "code",
   "execution_count": 28,
   "id": "8d8f5383-8920-4bb4-b92b-1b3a1da3bc55",
   "metadata": {},
   "outputs": [],
   "source": [
    "#make_train_test_base()"
   ]
  },
  {
   "cell_type": "markdown",
   "id": "9609dd41-6a80-43d1-be89-3134f3f85ae7",
   "metadata": {
    "tags": []
   },
   "source": [
    "## 9. Carregamento da base de treino e preparação dos dados \n",
    "> A função load_bases é utilizado para carregar a base de treino. Em seguida:  \n",
    "> 1. A função make_transformers é utilizado para preparar os trasnformadores (normalizadores e codificadores). \n",
    ">\n",
    "> 2. Também é instanciado um objeto PCA (principal component analysis) cuja finalidade é realizar a redução da dimensionalidade do modelo por meio do conceito de autovalores e autovetores.\n",
    ">\n",
    "> 3. Por fim, são aplicadas a preparação dos dados e a transformação PCA, de modo a se obter um cujunto de características (features) adquado e suficiente ao processo de teinamento do classificador.  \n",
    " "
   ]
  },
  {
   "cell_type": "code",
   "execution_count": 29,
   "id": "f03c1079-0eeb-4ed1-a47e-de0d847818a3",
   "metadata": {},
   "outputs": [
    {
     "name": "stdout",
     "output_type": "stream",
     "text": [
      "0.9649714467973592\n"
     ]
    }
   ],
   "source": [
    "#train and test bases loading\n",
    "X_train, y_train = load_bases(type='train')\n",
    "\n",
    "#data preparation\n",
    "accented = pd.read_csv('./datasets/accented.txt.gz', compression='gzip', sep=';', encoding='utf-8')\n",
    "stop_words = pd.read_csv('./datasets/stopwords.txt.gz', compression='gzip', encoding='utf-8', header=None)[0].tolist()\n",
    "transformers = make_transformers(X_train, stop_words, accented)\n",
    "pca = PCA(n_components=700)\n",
    "\n",
    "X_train = data_preparation(transformers, X_train)\n",
    "pca.fit(X_train, y_train)\n",
    "X_train = pca.transform(X_train)\n",
    "print(sum(pca.explained_variance_ratio_))\n"
   ]
  },
  {
   "cell_type": "markdown",
   "id": "786ef255-48d7-48ef-a000-18537c168d43",
   "metadata": {},
   "source": [
    "## 10. Seleção do algorítimo e ajuste dos hiperparâmetros (tuning)\n",
    "> Cada algorítimo candidato é treinado e avaliado com cross-validation por meio da função get_tuned_estimator, que utiliza o GridSearchCV. Neste caso o score a ser observado é o da precisão, já que se pretende que as predições de convênios com insucesso tenham mais probabilidade de estarem corretas (precision/precisão), mesmo que não se tenha bom desempenho em identificar todos convênios com insucesso (recall/revocação).  "
   ]
  },
  {
   "cell_type": "code",
   "execution_count": 30,
   "id": "dd8d8f1e-f291-4371-934c-047f5516cf14",
   "metadata": {},
   "outputs": [
    {
     "name": "stdout",
     "output_type": "stream",
     "text": [
      "estimator: LGR --> 0.8665448989198712\n",
      "estimator: GNB --> 0.6766134360026642\n",
      "estimator: KNN --> 0.8251768625890564\n",
      "estimator: RFC --> 0.8888932731651057\n",
      "estimator: MLP --> 0.8665732260662153\n"
     ]
    }
   ],
   "source": [
    "knn_param_dist = {\n",
    "                  'n_neighbors': [5, 10, 20, 30, 40, 50, 60, 70, 80, 90, 100], \n",
    "                  'weights': ['uniform', 'distance'], \n",
    "                  'leaf_size': [10, 20, 30]\n",
    "                  }\n",
    "\n",
    "mlp_param_dist = {\n",
    "                  'hidden_layer_sizes': [(n, ) for n in range(10, 51, 10)] + [(n1, n2 ) for n2 in range(10, 51, 10) for n1 in range(10, 51, 10)],\n",
    "                  }\n",
    "\n",
    "rfc_param_dist = {\n",
    "                  'n_estimators': [25, 50, 100, 200],\n",
    "                  'criterion': ['gini', 'entropy'],\n",
    "                  }\n",
    "\n",
    "gnb_param_dist = {\n",
    "                  'var_smoothing': [1e-12, 1e-15, 1e-20]\n",
    "                  }\n",
    "\n",
    "lgr_param_dist = {\n",
    "                  'solver': ['newton-cg', 'lbfgs', 'liblinear', 'sag', 'saga']\n",
    "                  }\n",
    "\n",
    "\n",
    "best_estimators = pd.DataFrame(data=[], columns=['estimator', 'params', 'score'])\n",
    "\n",
    "print('estimator: LGR --> ', end='')\n",
    "params, score = get_tuned_estimator(X_train, y_train, estimator=LogisticRegression(max_iter=2000), param_dist=lgr_param_dist, scoring='precision')\n",
    "best_estimators = pd.concat([best_estimators, pd.DataFrame([['LGR', str(params.copy()), score]], columns=best_estimators.columns)], axis=0, ignore_index=True, sort=False)\n",
    "print(f'{score}')\n",
    "\n",
    "print('estimator: GNB --> ', end='')\n",
    "params, score = get_tuned_estimator(X_train, y_train, estimator=GaussianNB(), param_dist=gnb_param_dist, scoring='precision')\n",
    "best_estimators = pd.concat([best_estimators, pd.DataFrame([['GNB', str(params.copy()), score]], columns=best_estimators.columns)], axis=0, ignore_index=True, sort=False)\n",
    "print(f'{score}')\n",
    "\n",
    "print('estimator: KNN --> ', end='')\n",
    "params, score = get_tuned_estimator(X_train, y_train, estimator=KNeighborsClassifier(), param_dist=knn_param_dist, scoring='precision')\n",
    "best_estimators = pd.concat([best_estimators, pd.DataFrame([['KNN', str(params.copy()), score]], columns=best_estimators.columns)], axis=0, ignore_index=True, sort=False)\n",
    "print(f'{score}')\n",
    "\n",
    "print('estimator: RFC --> ', end='')\n",
    "params, score = get_tuned_estimator(X_train, y_train, estimator=RandomForestClassifier(), param_dist=rfc_param_dist, scoring='precision')\n",
    "best_estimators = pd.concat([best_estimators, pd.DataFrame([['RFC', str(params.copy()), score]], columns=best_estimators.columns)], axis=0, ignore_index=True, sort=False)\n",
    "print(f'{score}')\n",
    "\n",
    "print('estimator: MLP --> ', end='')\n",
    "params, score = get_tuned_estimator(X_train, y_train, estimator=MLPClassifier(alpha=0.0001, shuffle=False, activation='relu', max_iter=2000), param_dist=mlp_param_dist, scoring='precision')\n",
    "best_estimators = pd.concat([best_estimators, pd.DataFrame([['MLP', str(params.copy()), score]], columns=best_estimators.columns)], axis=0, ignore_index=True, sort=False)\n",
    "print(f'{score}')\n"
   ]
  },
  {
   "cell_type": "code",
   "execution_count": 44,
   "id": "2e4e9778-9154-4a92-be85-a1072aa05c78",
   "metadata": {},
   "outputs": [
    {
     "data": {
      "text/plain": [
       "<AxesSubplot:xlabel='estimator'>"
      ]
     },
     "execution_count": 44,
     "metadata": {},
     "output_type": "execute_result"
    },
    {
     "data": {
      "image/png": "[encoded data removed]",
      "text/plain": [
       "<Figure size 1008x288 with 1 Axes>"
      ]
     },
     "metadata": {
      "needs_background": "light"
     },
     "output_type": "display_data"
    }
   ],
   "source": [
    "best_estimators.plot.bar(x='estimator', y='score', logy=False, ylim=[0, 1], grid=True, yticks=np.arange(0.05, 1, 0.05), figsize=(14, 4))"
   ]
  },
  {
   "cell_type": "code",
   "execution_count": 12,
   "id": "8c0ba5d4-d23b-44bc-ad5c-22b698da3cb0",
   "metadata": {},
   "outputs": [
    {
     "data": {
      "text/html": [
       "<div>\n",
       "<style scoped>\n",
       "    .dataframe tbody tr th:only-of-type {\n",
       "        vertical-align: middle;\n",
       "    }\n",
       "\n",
       "    .dataframe tbody tr th {\n",
       "        vertical-align: top;\n",
       "    }\n",
       "\n",
       "    .dataframe thead th {\n",
       "        text-align: right;\n",
       "    }\n",
       "</style>\n",
       "<table border=\"1\" class=\"dataframe\">\n",
       "  <thead>\n",
       "    <tr style=\"text-align: right;\">\n",
       "      <th></th>\n",
       "      <th>estimator</th>\n",
       "      <th>params</th>\n",
       "      <th>score</th>\n",
       "    </tr>\n",
       "  </thead>\n",
       "  <tbody>\n",
       "    <tr>\n",
       "      <th>0</th>\n",
       "      <td>LGR</td>\n",
       "      <td>{'solver': 'sag'}</td>\n",
       "      <td>0.818213</td>\n",
       "    </tr>\n",
       "    <tr>\n",
       "      <th>1</th>\n",
       "      <td>GNB</td>\n",
       "      <td>{'var_smoothing': 1e-12}</td>\n",
       "      <td>0.584995</td>\n",
       "    </tr>\n",
       "    <tr>\n",
       "      <th>2</th>\n",
       "      <td>KNN</td>\n",
       "      <td>{'leaf_size': 10, 'n_neighbors': 10, 'weights'...</td>\n",
       "      <td>0.82638</td>\n",
       "    </tr>\n",
       "    <tr>\n",
       "      <th>3</th>\n",
       "      <td>RFC</td>\n",
       "      <td>{'criterion': 'gini', 'n_estimators': 200}</td>\n",
       "      <td>0.861809</td>\n",
       "    </tr>\n",
       "    <tr>\n",
       "      <th>4</th>\n",
       "      <td>MLP</td>\n",
       "      <td>{'hidden_layer_sizes': (10,)}</td>\n",
       "      <td>0.823792</td>\n",
       "    </tr>\n",
       "  </tbody>\n",
       "</table>\n",
       "</div>"
      ],
      "text/plain": [
       "  estimator                                             params     score\n",
       "0       LGR                                  {'solver': 'sag'}  0.818213\n",
       "1       GNB                           {'var_smoothing': 1e-12}  0.584995\n",
       "2       KNN  {'leaf_size': 10, 'n_neighbors': 10, 'weights'...   0.82638\n",
       "3       RFC         {'criterion': 'gini', 'n_estimators': 200}  0.861809\n",
       "4       MLP                      {'hidden_layer_sizes': (10,)}  0.823792"
      ]
     },
     "execution_count": 12,
     "metadata": {},
     "output_type": "execute_result"
    }
   ],
   "source": [
    "best_estimators"
   ]
  },
  {
   "cell_type": "markdown",
   "id": "41b6e0d0-98cd-404b-a970-d92920e2fc10",
   "metadata": {},
   "source": [
    "\n",
    "## 11. Treinamento e avaliação do algorítimo selecionado  \n"
   ]
  },
  {
   "cell_type": "code",
   "execution_count": 10,
   "id": "2c2ec04e-ed10-4d3c-a4ba-f4ea0c8cc03d",
   "metadata": {},
   "outputs": [],
   "source": [
    "clf = RandomForestClassifier(criterion='gini', n_estimators=200, max_features='sqrt').fit(X_train, y_train['INSUCESSO'])"
   ]
  },
  {
   "cell_type": "markdown",
   "id": "2f732f14-0b63-44ad-885e-ea1633929a00",
   "metadata": {},
   "source": [
    "#### - Relatório de classificação  "
   ]
  },
  {
   "cell_type": "code",
   "execution_count": 12,
   "id": "eb9bc110-172f-442a-a67b-3c38c1087926",
   "metadata": {},
   "outputs": [
    {
     "name": "stdout",
     "output_type": "stream",
     "text": [
      "              precision    recall  f1-score   support\n",
      "\n",
      "           0       0.86      0.89      0.87       489\n",
      "           1       0.88      0.85      0.86       468\n",
      "\n",
      "    accuracy                           0.87       957\n",
      "   macro avg       0.87      0.87      0.87       957\n",
      "weighted avg       0.87      0.87      0.87       957\n",
      "\n"
     ]
    }
   ],
   "source": [
    "#evaluation\n",
    "X_test, y_test = load_bases(type='test')\n",
    "X_test = data_preparation(transformers, X_test)\n",
    "X_test = pca.transform(X_test)\n",
    "\n",
    "p = clf.predict(X_test)\n",
    "print(classification_report(y_test['INSUCESSO'], p))"
   ]
  },
  {
   "cell_type": "markdown",
   "id": "a66147e6-7280-46c9-94bd-401dac2d0e64",
   "metadata": {},
   "source": [
    "#### - Mean Squared Error"
   ]
  },
  {
   "cell_type": "code",
   "execution_count": 13,
   "id": "384dcb0a-c071-4428-83f1-08ccf5a47daf",
   "metadata": {},
   "outputs": [
    {
     "name": "stdout",
     "output_type": "stream",
     "text": [
      "Mean Squared Error: 0.17185322805387832\n",
      "\n"
     ]
    }
   ],
   "source": [
    "print(f'Mean Squared Error: {mean_squared_error(y_test, p)}\\n')"
   ]
  },
  {
   "cell_type": "markdown",
   "id": "3653d58f-d470-4981-ae53-58d3f5dc433a",
   "metadata": {},
   "source": [
    "## 12. Armazenhamento do modelo treinado em formato pickle\n",
    "> A finalidade é que o modelo treinado possa ser utilizado em outra aplicação a partir do carregamento do arquivo pickle.  "
   ]
  },
  {
   "cell_type": "code",
   "execution_count": 14,
   "id": "6b11e03a-7216-455a-ba78-6249c1b1dd6b",
   "metadata": {},
   "outputs": [],
   "source": [
    "def save_model(object_model, filename):\n",
    "    with open(filename, 'wb') as fd:\n",
    "        pickle.dump(object_model, fd)"
   ]
  },
  {
   "cell_type": "code",
   "execution_count": 15,
   "id": "798fd6ff-171a-40a2-aa0d-ab92217070a0",
   "metadata": {},
   "outputs": [],
   "source": [
    "\n",
    "class MLModel(object):\n",
    "    def __init__(self, transformers, pca, clf):\n",
    "        self.transformers = transformers\n",
    "        self.pca = pca\n",
    "        self.clf = clf\n",
    "        \n",
    "save_model(MLModel(transformers, pca, clf), 'model.pickle')"
   ]
  },
  {
   "cell_type": "code",
   "execution_count": 16,
   "id": "386b02af-8148-4b6b-bb71-5ed8802a6b31",
   "metadata": {},
   "outputs": [],
   "source": [
    "import pandas as pd\n",
    "import pickle\n",
    "import numpy as np\n",
    "\n",
    "def load_model(filename):\n",
    "    with open(filename, 'rb') as fd:\n",
    "        object_model = pickle.load(fd)\n",
    "\n",
    "    return object_model"
   ]
  },
  {
   "cell_type": "code",
   "execution_count": 44,
   "id": "29826f98-142b-44cd-8c53-6db5dc9314b1",
   "metadata": {},
   "outputs": [],
   "source": [
    "conv = pd.read_csv('convenios_em_execucao.tsv.gz', compression='gzip', sep='\\t', encoding='utf-8', decimal=',')\n",
    "X_conv = conv.drop(['NR_CONVENIO'], axis=1)\n",
    "#X_conv.astype({'VL_REPASSE_CONV': 'float64', 'VL_CONTRAPARTIDA_CONV': 'float64', 'VALOR_EMENDA_CONVENIO': 'float64'})\n",
    "#X_conv = conv.drop(['NR_CONVENIO', 'UF'], axis=1)\n",
    "#X_conv['OBJETO_PROPOSTA'] = text_transformer.predict(X_conv['OBJETO_PROPOSTA'])\n",
    "#X_conv['OBJETO_PROPOSTA'] = X_conv['OBJETO_PROPOSTA'].astype('int64')"
   ]
  },
  {
   "cell_type": "code",
   "execution_count": 42,
   "id": "68ad564c-875d-4490-9f6c-fa51b1480da3",
   "metadata": {},
   "outputs": [],
   "source": [
    "ml_obj = load_model('model.pickle')\n",
    "X_conv = ml_obj.data_preparation(ml_obj.transformers, X_conv)\n",
    "X_conv = ml_obj.pca.transform(X_conv)"
   ]
  },
  {
   "cell_type": "code",
   "execution_count": 45,
   "id": "dfc1c578-e4f5-4253-ba63-3f7be1af1d68",
   "metadata": {},
   "outputs": [],
   "source": [
    "conv['INSUCESSO'] = ml_obj.clf.predict(X_conv)\n",
    "conv['INSUCESSO_PROBA'] = ml_obj.clf.predict_proba(X_conv)[:, 1]"
   ]
  },
  {
   "cell_type": "code",
   "execution_count": 52,
   "id": "71739f03-b845-4a3f-b9be-081cce48eedd",
   "metadata": {},
   "outputs": [
    {
     "data": {
      "text/html": [
       "<div>\n",
       "<style scoped>\n",
       "    .dataframe tbody tr th:only-of-type {\n",
       "        vertical-align: middle;\n",
       "    }\n",
       "\n",
       "    .dataframe tbody tr th {\n",
       "        vertical-align: top;\n",
       "    }\n",
       "\n",
       "    .dataframe thead th {\n",
       "        text-align: right;\n",
       "    }\n",
       "</style>\n",
       "<table border=\"1\" class=\"dataframe\">\n",
       "  <thead>\n",
       "    <tr style=\"text-align: right;\">\n",
       "      <th></th>\n",
       "      <th>NR_CONVENIO</th>\n",
       "      <th>VL_REPASSE_CONV</th>\n",
       "      <th>VL_CONTRAPARTIDA_CONV</th>\n",
       "      <th>VALOR_EMENDA_CONVENIO</th>\n",
       "      <th>OBJETO_PROPOSTA</th>\n",
       "      <th>COD_ORGAO</th>\n",
       "      <th>COD_ORGAO_SUP</th>\n",
       "      <th>NATUREZA_JURIDICA</th>\n",
       "      <th>MODALIDADE</th>\n",
       "      <th>IDENTIF_PROPONENTE</th>\n",
       "      <th>COM_EMENDAS</th>\n",
       "      <th>CODIGO_IBGE</th>\n",
       "      <th>PRINCIPAL_PARLAMENTAR</th>\n",
       "      <th>PRINCIPAL_FORNECEDOR</th>\n",
       "      <th>INSUCESSO</th>\n",
       "      <th>INSUCESSO_PROBA</th>\n",
       "    </tr>\n",
       "  </thead>\n",
       "  <tbody>\n",
       "    <tr>\n",
       "      <th>53701</th>\n",
       "      <td>704463</td>\n",
       "      <td>100000.0</td>\n",
       "      <td>5040.00</td>\n",
       "      <td>0.0</td>\n",
       "      <td>REALIZAÇÃO DA 29ª EXPOGAL - EXPOSIÇÃO DE GADO ...</td>\n",
       "      <td>54000</td>\n",
       "      <td>54000</td>\n",
       "      <td>Administração Pública Municipal</td>\n",
       "      <td>CONVENIO</td>\n",
       "      <td>18140764000148</td>\n",
       "      <td>0</td>\n",
       "      <td>3156908</td>\n",
       "      <td>NAO APLICAVEL</td>\n",
       "      <td>NAO APLICAVEL</td>\n",
       "      <td>1</td>\n",
       "      <td>1.000000</td>\n",
       "    </tr>\n",
       "    <tr>\n",
       "      <th>3418</th>\n",
       "      <td>700614</td>\n",
       "      <td>161500.0</td>\n",
       "      <td>8500.00</td>\n",
       "      <td>0.0</td>\n",
       "      <td>Apoio para a realização da 4ª Festa de Peão de...</td>\n",
       "      <td>54000</td>\n",
       "      <td>54000</td>\n",
       "      <td>Administração Pública Municipal</td>\n",
       "      <td>CONVENIO</td>\n",
       "      <td>1799683000151</td>\n",
       "      <td>0</td>\n",
       "      <td>5214101</td>\n",
       "      <td>NAO APLICAVEL</td>\n",
       "      <td>NAO APLICAVEL</td>\n",
       "      <td>1</td>\n",
       "      <td>1.000000</td>\n",
       "    </tr>\n",
       "    <tr>\n",
       "      <th>91445</th>\n",
       "      <td>736645</td>\n",
       "      <td>100000.0</td>\n",
       "      <td>5000.00</td>\n",
       "      <td>0.0</td>\n",
       "      <td>14º FESTA DO PEÃO DE BOIADEIRO DE GUARACIABA / MG</td>\n",
       "      <td>54000</td>\n",
       "      <td>54000</td>\n",
       "      <td>Administração Pública Municipal</td>\n",
       "      <td>CONVENIO</td>\n",
       "      <td>19382647000153</td>\n",
       "      <td>0</td>\n",
       "      <td>3128204</td>\n",
       "      <td>NAO APLICAVEL</td>\n",
       "      <td>NAO APLICAVEL</td>\n",
       "      <td>1</td>\n",
       "      <td>1.000000</td>\n",
       "    </tr>\n",
       "    <tr>\n",
       "      <th>78400</th>\n",
       "      <td>704928</td>\n",
       "      <td>100000.0</td>\n",
       "      <td>10000.00</td>\n",
       "      <td>0.0</td>\n",
       "      <td>4ª FESTA DA COLHEITA</td>\n",
       "      <td>54000</td>\n",
       "      <td>54000</td>\n",
       "      <td>Administração Pública Municipal</td>\n",
       "      <td>CONVENIO</td>\n",
       "      <td>18392548000190</td>\n",
       "      <td>0</td>\n",
       "      <td>3116001</td>\n",
       "      <td>NAO APLICAVEL</td>\n",
       "      <td>NAO APLICAVEL</td>\n",
       "      <td>1</td>\n",
       "      <td>1.000000</td>\n",
       "    </tr>\n",
       "    <tr>\n",
       "      <th>78341</th>\n",
       "      <td>717585</td>\n",
       "      <td>200000.0</td>\n",
       "      <td>8500.00</td>\n",
       "      <td>0.0</td>\n",
       "      <td>Festividades Natalinas de Miranorte</td>\n",
       "      <td>54000</td>\n",
       "      <td>54000</td>\n",
       "      <td>Administração Pública Municipal</td>\n",
       "      <td>CONVENIO</td>\n",
       "      <td>2070720000159</td>\n",
       "      <td>0</td>\n",
       "      <td>1713304</td>\n",
       "      <td>NAO APLICAVEL</td>\n",
       "      <td>NAO APLICAVEL</td>\n",
       "      <td>1</td>\n",
       "      <td>1.000000</td>\n",
       "    </tr>\n",
       "    <tr>\n",
       "      <th>...</th>\n",
       "      <td>...</td>\n",
       "      <td>...</td>\n",
       "      <td>...</td>\n",
       "      <td>...</td>\n",
       "      <td>...</td>\n",
       "      <td>...</td>\n",
       "      <td>...</td>\n",
       "      <td>...</td>\n",
       "      <td>...</td>\n",
       "      <td>...</td>\n",
       "      <td>...</td>\n",
       "      <td>...</td>\n",
       "      <td>...</td>\n",
       "      <td>...</td>\n",
       "      <td>...</td>\n",
       "      <td>...</td>\n",
       "    </tr>\n",
       "    <tr>\n",
       "      <th>4273</th>\n",
       "      <td>839163</td>\n",
       "      <td>220426.0</td>\n",
       "      <td>661.28</td>\n",
       "      <td>220426.0</td>\n",
       "      <td>Aquisição de Equipamento- Veículo utilitário t...</td>\n",
       "      <td>52000</td>\n",
       "      <td>52000</td>\n",
       "      <td>Administração Pública Municipal</td>\n",
       "      <td>CONVENIO</td>\n",
       "      <td>5943030000155</td>\n",
       "      <td>1</td>\n",
       "      <td>1400100</td>\n",
       "      <td>NAO APLICAVEL</td>\n",
       "      <td>NAO APLICAVEL</td>\n",
       "      <td>1</td>\n",
       "      <td>0.501250</td>\n",
       "    </tr>\n",
       "    <tr>\n",
       "      <th>60753</th>\n",
       "      <td>762199</td>\n",
       "      <td>100000.0</td>\n",
       "      <td>2500.00</td>\n",
       "      <td>100000.0</td>\n",
       "      <td>Aquisi��o de Patrulha Rural Mecanizada.</td>\n",
       "      <td>53207</td>\n",
       "      <td>53000</td>\n",
       "      <td>Administração Pública Municipal</td>\n",
       "      <td>CONVENIO</td>\n",
       "      <td>18192260000171</td>\n",
       "      <td>1</td>\n",
       "      <td>3137106</td>\n",
       "      <td>NAO APLICAVEL</td>\n",
       "      <td>NAO APLICAVEL</td>\n",
       "      <td>1</td>\n",
       "      <td>0.500833</td>\n",
       "    </tr>\n",
       "    <tr>\n",
       "      <th>154979</th>\n",
       "      <td>923769</td>\n",
       "      <td>960019.0</td>\n",
       "      <td>1981.00</td>\n",
       "      <td>0.0</td>\n",
       "      <td>Pavimentação em bloco intertravado no Municípi...</td>\n",
       "      <td>53000</td>\n",
       "      <td>53000</td>\n",
       "      <td>Administração Pública Municipal</td>\n",
       "      <td>CONTRATO DE REPASSE</td>\n",
       "      <td>7000300000110</td>\n",
       "      <td>0</td>\n",
       "      <td>2105500</td>\n",
       "      <td>NAO APLICAVEL</td>\n",
       "      <td>NAO APLICAVEL</td>\n",
       "      <td>1</td>\n",
       "      <td>0.500778</td>\n",
       "    </tr>\n",
       "    <tr>\n",
       "      <th>18333</th>\n",
       "      <td>857539</td>\n",
       "      <td>496663.0</td>\n",
       "      <td>0.00</td>\n",
       "      <td>0.0</td>\n",
       "      <td>Implantação de Melhorias Sanitárias Domiciliar...</td>\n",
       "      <td>36211</td>\n",
       "      <td>36000</td>\n",
       "      <td>Administração Pública Municipal</td>\n",
       "      <td>CONVENIO</td>\n",
       "      <td>87612909000189</td>\n",
       "      <td>0</td>\n",
       "      <td>4313805</td>\n",
       "      <td>NAO APLICAVEL</td>\n",
       "      <td>NAO APLICAVEL</td>\n",
       "      <td>1</td>\n",
       "      <td>0.500625</td>\n",
       "    </tr>\n",
       "    <tr>\n",
       "      <th>11309</th>\n",
       "      <td>723965</td>\n",
       "      <td>700000.0</td>\n",
       "      <td>191160.00</td>\n",
       "      <td>0.0</td>\n",
       "      <td>Constitui objeto da presente proposta o funcio...</td>\n",
       "      <td>55000</td>\n",
       "      <td>55000</td>\n",
       "      <td>Administração Pública Municipal</td>\n",
       "      <td>CONVENIO</td>\n",
       "      <td>11030772000192</td>\n",
       "      <td>0</td>\n",
       "      <td>2611606</td>\n",
       "      <td>NAO APLICAVEL</td>\n",
       "      <td>NAO APLICAVEL</td>\n",
       "      <td>1</td>\n",
       "      <td>0.500042</td>\n",
       "    </tr>\n",
       "  </tbody>\n",
       "</table>\n",
       "<p>65027 rows × 16 columns</p>\n",
       "</div>"
      ],
      "text/plain": [
       "        NR_CONVENIO  VL_REPASSE_CONV  VL_CONTRAPARTIDA_CONV  \\\n",
       "53701        704463         100000.0                5040.00   \n",
       "3418         700614         161500.0                8500.00   \n",
       "91445        736645         100000.0                5000.00   \n",
       "78400        704928         100000.0               10000.00   \n",
       "78341        717585         200000.0                8500.00   \n",
       "...             ...              ...                    ...   \n",
       "4273         839163         220426.0                 661.28   \n",
       "60753        762199         100000.0                2500.00   \n",
       "154979       923769         960019.0                1981.00   \n",
       "18333        857539         496663.0                   0.00   \n",
       "11309        723965         700000.0              191160.00   \n",
       "\n",
       "        VALOR_EMENDA_CONVENIO  \\\n",
       "53701                     0.0   \n",
       "3418                      0.0   \n",
       "91445                     0.0   \n",
       "78400                     0.0   \n",
       "78341                     0.0   \n",
       "...                       ...   \n",
       "4273                 220426.0   \n",
       "60753                100000.0   \n",
       "154979                    0.0   \n",
       "18333                     0.0   \n",
       "11309                     0.0   \n",
       "\n",
       "                                          OBJETO_PROPOSTA  COD_ORGAO  \\\n",
       "53701   REALIZAÇÃO DA 29ª EXPOGAL - EXPOSIÇÃO DE GADO ...      54000   \n",
       "3418    Apoio para a realização da 4ª Festa de Peão de...      54000   \n",
       "91445   14º FESTA DO PEÃO DE BOIADEIRO DE GUARACIABA / MG      54000   \n",
       "78400                                4ª FESTA DA COLHEITA      54000   \n",
       "78341                 Festividades Natalinas de Miranorte      54000   \n",
       "...                                                   ...        ...   \n",
       "4273    Aquisição de Equipamento- Veículo utilitário t...      52000   \n",
       "60753             Aquisi��o de Patrulha Rural Mecanizada.      53207   \n",
       "154979  Pavimentação em bloco intertravado no Municípi...      53000   \n",
       "18333   Implantação de Melhorias Sanitárias Domiciliar...      36211   \n",
       "11309   Constitui objeto da presente proposta o funcio...      55000   \n",
       "\n",
       "        COD_ORGAO_SUP                NATUREZA_JURIDICA           MODALIDADE  \\\n",
       "53701           54000  Administração Pública Municipal             CONVENIO   \n",
       "3418            54000  Administração Pública Municipal             CONVENIO   \n",
       "91445           54000  Administração Pública Municipal             CONVENIO   \n",
       "78400           54000  Administração Pública Municipal             CONVENIO   \n",
       "78341           54000  Administração Pública Municipal             CONVENIO   \n",
       "...               ...                              ...                  ...   \n",
       "4273            52000  Administração Pública Municipal             CONVENIO   \n",
       "60753           53000  Administração Pública Municipal             CONVENIO   \n",
       "154979          53000  Administração Pública Municipal  CONTRATO DE REPASSE   \n",
       "18333           36000  Administração Pública Municipal             CONVENIO   \n",
       "11309           55000  Administração Pública Municipal             CONVENIO   \n",
       "\n",
       "        IDENTIF_PROPONENTE  COM_EMENDAS  CODIGO_IBGE PRINCIPAL_PARLAMENTAR  \\\n",
       "53701       18140764000148            0      3156908         NAO APLICAVEL   \n",
       "3418         1799683000151            0      5214101         NAO APLICAVEL   \n",
       "91445       19382647000153            0      3128204         NAO APLICAVEL   \n",
       "78400       18392548000190            0      3116001         NAO APLICAVEL   \n",
       "78341        2070720000159            0      1713304         NAO APLICAVEL   \n",
       "...                    ...          ...          ...                   ...   \n",
       "4273         5943030000155            1      1400100         NAO APLICAVEL   \n",
       "60753       18192260000171            1      3137106         NAO APLICAVEL   \n",
       "154979       7000300000110            0      2105500         NAO APLICAVEL   \n",
       "18333       87612909000189            0      4313805         NAO APLICAVEL   \n",
       "11309       11030772000192            0      2611606         NAO APLICAVEL   \n",
       "\n",
       "       PRINCIPAL_FORNECEDOR  INSUCESSO  INSUCESSO_PROBA  \n",
       "53701         NAO APLICAVEL          1         1.000000  \n",
       "3418          NAO APLICAVEL          1         1.000000  \n",
       "91445         NAO APLICAVEL          1         1.000000  \n",
       "78400         NAO APLICAVEL          1         1.000000  \n",
       "78341         NAO APLICAVEL          1         1.000000  \n",
       "...                     ...        ...              ...  \n",
       "4273          NAO APLICAVEL          1         0.501250  \n",
       "60753         NAO APLICAVEL          1         0.500833  \n",
       "154979        NAO APLICAVEL          1         0.500778  \n",
       "18333         NAO APLICAVEL          1         0.500625  \n",
       "11309         NAO APLICAVEL          1         0.500042  \n",
       "\n",
       "[65027 rows x 16 columns]"
      ]
     },
     "execution_count": 52,
     "metadata": {},
     "output_type": "execute_result"
    }
   ],
   "source": [
    "conv[conv['INSUCESSO']==1].sort_values(['INSUCESSO_PROBA'], ascending=False)"
   ]
  },
  {
   "cell_type": "code",
   "execution_count": 48,
   "id": "5062584c-a2c7-41cd-8434-1423697fc4ee",
   "metadata": {},
   "outputs": [],
   "source": [
    "df = pd.read_csv('./datasets/convenios.txt.gz', compression='gzip', sep='\\t', encoding='utf-8')"
   ]
  },
  {
   "cell_type": "code",
   "execution_count": 50,
   "id": "9cbcbf0d-67e0-4e35-9fee-f524207aa9d5",
   "metadata": {},
   "outputs": [
    {
     "data": {
      "text/plain": [
       "(31822, 14)"
      ]
     },
     "execution_count": 50,
     "metadata": {},
     "output_type": "execute_result"
    }
   ],
   "source": [
    "df.shape"
   ]
  }
 ],
 "metadata": {
  "kernelspec": {
   "display_name": "Python 3 (ipykernel)",
   "language": "python",
   "name": "python3"
  },
  "language_info": {
   "codemirror_mode": {
    "name": "ipython",
    "version": 3
   },
   "file_extension": ".py",
   "mimetype": "text/x-python",
   "name": "python",
   "nbconvert_exporter": "python",
   "pygments_lexer": "ipython3",
   "version": "3.8.0"
  }
 },
 "nbformat": 4,
 "nbformat_minor": 5
}
